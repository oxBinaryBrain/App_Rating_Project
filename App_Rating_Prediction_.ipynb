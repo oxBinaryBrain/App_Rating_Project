{
  "nbformat": 4,
  "nbformat_minor": 0,
  "metadata": {
    "colab": {
      "provenance": []
    },
    "kernelspec": {
      "name": "python3",
      "display_name": "Python 3"
    },
    "language_info": {
      "name": "python"
    }
  },
  "cells": [
    {
      "cell_type": "code",
      "execution_count": 181,
      "metadata": {
        "id": "6IqGt7uWNUNJ"
      },
      "outputs": [],
      "source": [
        "import numpy as np\n",
        "import pandas as pd\n",
        "import matplotlib.pyplot as plt\n",
        "import seaborn as sns"
      ]
    },
    {
      "cell_type": "markdown",
      "source": [
        "#1.Load the data file using pandas."
      ],
      "metadata": {
        "id": "Vx6b6pjIQHiP"
      }
    },
    {
      "cell_type": "code",
      "source": [
        "df = pd.read_csv(\"/content/googleplaystore.csv\")\n"
      ],
      "metadata": {
        "id": "K1rBIw4jQIEv"
      },
      "execution_count": 182,
      "outputs": []
    },
    {
      "cell_type": "code",
      "source": [
        "df.shape"
      ],
      "metadata": {
        "colab": {
          "base_uri": "https://localhost:8080/"
        },
        "id": "9QuODlxlQUsd",
        "outputId": "f0999293-1f5e-40d1-8d6f-2db488b3eff8"
      },
      "execution_count": 183,
      "outputs": [
        {
          "output_type": "execute_result",
          "data": {
            "text/plain": [
              "(10841, 13)"
            ]
          },
          "metadata": {},
          "execution_count": 183
        }
      ]
    },
    {
      "cell_type": "code",
      "source": [
        "df.head(2)"
      ],
      "metadata": {
        "colab": {
          "base_uri": "https://localhost:8080/",
          "height": 112
        },
        "id": "nxftW1vZQcxt",
        "outputId": "c333a8a2-7e02-41eb-de29-2d0ef0efa3d7"
      },
      "execution_count": 184,
      "outputs": [
        {
          "output_type": "execute_result",
          "data": {
            "text/plain": [
              "                                              App        Category  Rating  \\\n",
              "0  Photo Editor & Candy Camera & Grid & ScrapBook  ART_AND_DESIGN     4.1   \n",
              "1                             Coloring book moana  ART_AND_DESIGN     3.9   \n",
              "\n",
              "  Reviews Size  Installs  Type Price Content Rating  \\\n",
              "0     159  19M   10,000+  Free     0       Everyone   \n",
              "1     967  14M  500,000+  Free     0       Everyone   \n",
              "\n",
              "                      Genres      Last Updated Current Ver   Android Ver  \n",
              "0               Art & Design   January 7, 2018       1.0.0  4.0.3 and up  \n",
              "1  Art & Design;Pretend Play  January 15, 2018       2.0.0  4.0.3 and up  "
            ],
            "text/html": [
              "\n",
              "  <div id=\"df-1b387f61-2b06-43ae-a244-c43d3bc71ed4\" class=\"colab-df-container\">\n",
              "    <div>\n",
              "<style scoped>\n",
              "    .dataframe tbody tr th:only-of-type {\n",
              "        vertical-align: middle;\n",
              "    }\n",
              "\n",
              "    .dataframe tbody tr th {\n",
              "        vertical-align: top;\n",
              "    }\n",
              "\n",
              "    .dataframe thead th {\n",
              "        text-align: right;\n",
              "    }\n",
              "</style>\n",
              "<table border=\"1\" class=\"dataframe\">\n",
              "  <thead>\n",
              "    <tr style=\"text-align: right;\">\n",
              "      <th></th>\n",
              "      <th>App</th>\n",
              "      <th>Category</th>\n",
              "      <th>Rating</th>\n",
              "      <th>Reviews</th>\n",
              "      <th>Size</th>\n",
              "      <th>Installs</th>\n",
              "      <th>Type</th>\n",
              "      <th>Price</th>\n",
              "      <th>Content Rating</th>\n",
              "      <th>Genres</th>\n",
              "      <th>Last Updated</th>\n",
              "      <th>Current Ver</th>\n",
              "      <th>Android Ver</th>\n",
              "    </tr>\n",
              "  </thead>\n",
              "  <tbody>\n",
              "    <tr>\n",
              "      <th>0</th>\n",
              "      <td>Photo Editor &amp; Candy Camera &amp; Grid &amp; ScrapBook</td>\n",
              "      <td>ART_AND_DESIGN</td>\n",
              "      <td>4.1</td>\n",
              "      <td>159</td>\n",
              "      <td>19M</td>\n",
              "      <td>10,000+</td>\n",
              "      <td>Free</td>\n",
              "      <td>0</td>\n",
              "      <td>Everyone</td>\n",
              "      <td>Art &amp; Design</td>\n",
              "      <td>January 7, 2018</td>\n",
              "      <td>1.0.0</td>\n",
              "      <td>4.0.3 and up</td>\n",
              "    </tr>\n",
              "    <tr>\n",
              "      <th>1</th>\n",
              "      <td>Coloring book moana</td>\n",
              "      <td>ART_AND_DESIGN</td>\n",
              "      <td>3.9</td>\n",
              "      <td>967</td>\n",
              "      <td>14M</td>\n",
              "      <td>500,000+</td>\n",
              "      <td>Free</td>\n",
              "      <td>0</td>\n",
              "      <td>Everyone</td>\n",
              "      <td>Art &amp; Design;Pretend Play</td>\n",
              "      <td>January 15, 2018</td>\n",
              "      <td>2.0.0</td>\n",
              "      <td>4.0.3 and up</td>\n",
              "    </tr>\n",
              "  </tbody>\n",
              "</table>\n",
              "</div>\n",
              "    <div class=\"colab-df-buttons\">\n",
              "\n",
              "  <div class=\"colab-df-container\">\n",
              "    <button class=\"colab-df-convert\" onclick=\"convertToInteractive('df-1b387f61-2b06-43ae-a244-c43d3bc71ed4')\"\n",
              "            title=\"Convert this dataframe to an interactive table.\"\n",
              "            style=\"display:none;\">\n",
              "\n",
              "  <svg xmlns=\"http://www.w3.org/2000/svg\" height=\"24px\" viewBox=\"0 -960 960 960\">\n",
              "    <path d=\"M120-120v-720h720v720H120Zm60-500h600v-160H180v160Zm220 220h160v-160H400v160Zm0 220h160v-160H400v160ZM180-400h160v-160H180v160Zm440 0h160v-160H620v160ZM180-180h160v-160H180v160Zm440 0h160v-160H620v160Z\"/>\n",
              "  </svg>\n",
              "    </button>\n",
              "\n",
              "  <style>\n",
              "    .colab-df-container {\n",
              "      display:flex;\n",
              "      gap: 12px;\n",
              "    }\n",
              "\n",
              "    .colab-df-convert {\n",
              "      background-color: #E8F0FE;\n",
              "      border: none;\n",
              "      border-radius: 50%;\n",
              "      cursor: pointer;\n",
              "      display: none;\n",
              "      fill: #1967D2;\n",
              "      height: 32px;\n",
              "      padding: 0 0 0 0;\n",
              "      width: 32px;\n",
              "    }\n",
              "\n",
              "    .colab-df-convert:hover {\n",
              "      background-color: #E2EBFA;\n",
              "      box-shadow: 0px 1px 2px rgba(60, 64, 67, 0.3), 0px 1px 3px 1px rgba(60, 64, 67, 0.15);\n",
              "      fill: #174EA6;\n",
              "    }\n",
              "\n",
              "    .colab-df-buttons div {\n",
              "      margin-bottom: 4px;\n",
              "    }\n",
              "\n",
              "    [theme=dark] .colab-df-convert {\n",
              "      background-color: #3B4455;\n",
              "      fill: #D2E3FC;\n",
              "    }\n",
              "\n",
              "    [theme=dark] .colab-df-convert:hover {\n",
              "      background-color: #434B5C;\n",
              "      box-shadow: 0px 1px 3px 1px rgba(0, 0, 0, 0.15);\n",
              "      filter: drop-shadow(0px 1px 2px rgba(0, 0, 0, 0.3));\n",
              "      fill: #FFFFFF;\n",
              "    }\n",
              "  </style>\n",
              "\n",
              "    <script>\n",
              "      const buttonEl =\n",
              "        document.querySelector('#df-1b387f61-2b06-43ae-a244-c43d3bc71ed4 button.colab-df-convert');\n",
              "      buttonEl.style.display =\n",
              "        google.colab.kernel.accessAllowed ? 'block' : 'none';\n",
              "\n",
              "      async function convertToInteractive(key) {\n",
              "        const element = document.querySelector('#df-1b387f61-2b06-43ae-a244-c43d3bc71ed4');\n",
              "        const dataTable =\n",
              "          await google.colab.kernel.invokeFunction('convertToInteractive',\n",
              "                                                    [key], {});\n",
              "        if (!dataTable) return;\n",
              "\n",
              "        const docLinkHtml = 'Like what you see? Visit the ' +\n",
              "          '<a target=\"_blank\" href=https://colab.research.google.com/notebooks/data_table.ipynb>data table notebook</a>'\n",
              "          + ' to learn more about interactive tables.';\n",
              "        element.innerHTML = '';\n",
              "        dataTable['output_type'] = 'display_data';\n",
              "        await google.colab.output.renderOutput(dataTable, element);\n",
              "        const docLink = document.createElement('div');\n",
              "        docLink.innerHTML = docLinkHtml;\n",
              "        element.appendChild(docLink);\n",
              "      }\n",
              "    </script>\n",
              "  </div>\n",
              "\n",
              "\n",
              "<div id=\"df-cf5f1854-65aa-4bf1-8873-86e2def83aee\">\n",
              "  <button class=\"colab-df-quickchart\" onclick=\"quickchart('df-cf5f1854-65aa-4bf1-8873-86e2def83aee')\"\n",
              "            title=\"Suggest charts\"\n",
              "            style=\"display:none;\">\n",
              "\n",
              "<svg xmlns=\"http://www.w3.org/2000/svg\" height=\"24px\"viewBox=\"0 0 24 24\"\n",
              "     width=\"24px\">\n",
              "    <g>\n",
              "        <path d=\"M19 3H5c-1.1 0-2 .9-2 2v14c0 1.1.9 2 2 2h14c1.1 0 2-.9 2-2V5c0-1.1-.9-2-2-2zM9 17H7v-7h2v7zm4 0h-2V7h2v10zm4 0h-2v-4h2v4z\"/>\n",
              "    </g>\n",
              "</svg>\n",
              "  </button>\n",
              "\n",
              "<style>\n",
              "  .colab-df-quickchart {\n",
              "      --bg-color: #E8F0FE;\n",
              "      --fill-color: #1967D2;\n",
              "      --hover-bg-color: #E2EBFA;\n",
              "      --hover-fill-color: #174EA6;\n",
              "      --disabled-fill-color: #AAA;\n",
              "      --disabled-bg-color: #DDD;\n",
              "  }\n",
              "\n",
              "  [theme=dark] .colab-df-quickchart {\n",
              "      --bg-color: #3B4455;\n",
              "      --fill-color: #D2E3FC;\n",
              "      --hover-bg-color: #434B5C;\n",
              "      --hover-fill-color: #FFFFFF;\n",
              "      --disabled-bg-color: #3B4455;\n",
              "      --disabled-fill-color: #666;\n",
              "  }\n",
              "\n",
              "  .colab-df-quickchart {\n",
              "    background-color: var(--bg-color);\n",
              "    border: none;\n",
              "    border-radius: 50%;\n",
              "    cursor: pointer;\n",
              "    display: none;\n",
              "    fill: var(--fill-color);\n",
              "    height: 32px;\n",
              "    padding: 0;\n",
              "    width: 32px;\n",
              "  }\n",
              "\n",
              "  .colab-df-quickchart:hover {\n",
              "    background-color: var(--hover-bg-color);\n",
              "    box-shadow: 0 1px 2px rgba(60, 64, 67, 0.3), 0 1px 3px 1px rgba(60, 64, 67, 0.15);\n",
              "    fill: var(--button-hover-fill-color);\n",
              "  }\n",
              "\n",
              "  .colab-df-quickchart-complete:disabled,\n",
              "  .colab-df-quickchart-complete:disabled:hover {\n",
              "    background-color: var(--disabled-bg-color);\n",
              "    fill: var(--disabled-fill-color);\n",
              "    box-shadow: none;\n",
              "  }\n",
              "\n",
              "  .colab-df-spinner {\n",
              "    border: 2px solid var(--fill-color);\n",
              "    border-color: transparent;\n",
              "    border-bottom-color: var(--fill-color);\n",
              "    animation:\n",
              "      spin 1s steps(1) infinite;\n",
              "  }\n",
              "\n",
              "  @keyframes spin {\n",
              "    0% {\n",
              "      border-color: transparent;\n",
              "      border-bottom-color: var(--fill-color);\n",
              "      border-left-color: var(--fill-color);\n",
              "    }\n",
              "    20% {\n",
              "      border-color: transparent;\n",
              "      border-left-color: var(--fill-color);\n",
              "      border-top-color: var(--fill-color);\n",
              "    }\n",
              "    30% {\n",
              "      border-color: transparent;\n",
              "      border-left-color: var(--fill-color);\n",
              "      border-top-color: var(--fill-color);\n",
              "      border-right-color: var(--fill-color);\n",
              "    }\n",
              "    40% {\n",
              "      border-color: transparent;\n",
              "      border-right-color: var(--fill-color);\n",
              "      border-top-color: var(--fill-color);\n",
              "    }\n",
              "    60% {\n",
              "      border-color: transparent;\n",
              "      border-right-color: var(--fill-color);\n",
              "    }\n",
              "    80% {\n",
              "      border-color: transparent;\n",
              "      border-right-color: var(--fill-color);\n",
              "      border-bottom-color: var(--fill-color);\n",
              "    }\n",
              "    90% {\n",
              "      border-color: transparent;\n",
              "      border-bottom-color: var(--fill-color);\n",
              "    }\n",
              "  }\n",
              "</style>\n",
              "\n",
              "  <script>\n",
              "    async function quickchart(key) {\n",
              "      const quickchartButtonEl =\n",
              "        document.querySelector('#' + key + ' button');\n",
              "      quickchartButtonEl.disabled = true;  // To prevent multiple clicks.\n",
              "      quickchartButtonEl.classList.add('colab-df-spinner');\n",
              "      try {\n",
              "        const charts = await google.colab.kernel.invokeFunction(\n",
              "            'suggestCharts', [key], {});\n",
              "      } catch (error) {\n",
              "        console.error('Error during call to suggestCharts:', error);\n",
              "      }\n",
              "      quickchartButtonEl.classList.remove('colab-df-spinner');\n",
              "      quickchartButtonEl.classList.add('colab-df-quickchart-complete');\n",
              "    }\n",
              "    (() => {\n",
              "      let quickchartButtonEl =\n",
              "        document.querySelector('#df-cf5f1854-65aa-4bf1-8873-86e2def83aee button');\n",
              "      quickchartButtonEl.style.display =\n",
              "        google.colab.kernel.accessAllowed ? 'block' : 'none';\n",
              "    })();\n",
              "  </script>\n",
              "</div>\n",
              "\n",
              "    </div>\n",
              "  </div>\n"
            ]
          },
          "metadata": {},
          "execution_count": 184
        }
      ]
    },
    {
      "cell_type": "markdown",
      "source": [
        "## 2.Check for null values in the data. Get the number of null values for each column.\n"
      ],
      "metadata": {
        "id": "n7xVVmOZQlwK"
      }
    },
    {
      "cell_type": "code",
      "source": [
        "df.isnull().sum()"
      ],
      "metadata": {
        "colab": {
          "base_uri": "https://localhost:8080/"
        },
        "id": "JrqAGoBhQest",
        "outputId": "1951c5e0-8adb-42e8-9086-a2d129910919"
      },
      "execution_count": 185,
      "outputs": [
        {
          "output_type": "execute_result",
          "data": {
            "text/plain": [
              "App                  0\n",
              "Category             0\n",
              "Rating            1474\n",
              "Reviews              0\n",
              "Size                 0\n",
              "Installs             0\n",
              "Type                 1\n",
              "Price                0\n",
              "Content Rating       1\n",
              "Genres               0\n",
              "Last Updated         0\n",
              "Current Ver          8\n",
              "Android Ver          3\n",
              "dtype: int64"
            ]
          },
          "metadata": {},
          "execution_count": 185
        }
      ]
    },
    {
      "cell_type": "markdown",
      "source": [
        "#3.Drop records with nulls in any of the columns."
      ],
      "metadata": {
        "id": "Pgcz0l6gROPp"
      }
    },
    {
      "cell_type": "code",
      "source": [
        "df1 = df.dropna()\n",
        "#the data that has null values in the columns get removed"
      ],
      "metadata": {
        "id": "H9TFFexBRKN-"
      },
      "execution_count": 186,
      "outputs": []
    },
    {
      "cell_type": "code",
      "source": [
        "df1.shape\n",
        "#the number of elements in each dimensions"
      ],
      "metadata": {
        "colab": {
          "base_uri": "https://localhost:8080/"
        },
        "id": "zx7Cg8GmRR1y",
        "outputId": "5e220a46-6f0c-42c6-a612-893996ffb700"
      },
      "execution_count": 187,
      "outputs": [
        {
          "output_type": "execute_result",
          "data": {
            "text/plain": [
              "(9360, 13)"
            ]
          },
          "metadata": {},
          "execution_count": 187
        }
      ]
    },
    {
      "cell_type": "code",
      "source": [
        "print(df1.isna().sum())\n",
        "#it will return the total number of null values in the dataframe"
      ],
      "metadata": {
        "colab": {
          "base_uri": "https://localhost:8080/"
        },
        "id": "qC7BK1AIRTwb",
        "outputId": "126f00e8-2175-42bd-feab-db67a0acf31c"
      },
      "execution_count": 188,
      "outputs": [
        {
          "output_type": "stream",
          "name": "stdout",
          "text": [
            "App               0\n",
            "Category          0\n",
            "Rating            0\n",
            "Reviews           0\n",
            "Size              0\n",
            "Installs          0\n",
            "Type              0\n",
            "Price             0\n",
            "Content Rating    0\n",
            "Genres            0\n",
            "Last Updated      0\n",
            "Current Ver       0\n",
            "Android Ver       0\n",
            "dtype: int64\n"
          ]
        }
      ]
    },
    {
      "cell_type": "markdown",
      "source": [
        "#4.\tVariables seem to have incorrect type and inconsistent formatting. You need to fix them:\n",
        "  1.\tSize column has sizes in Kb as well as Mb. To analyze, you’ll need to convert these to numeric:\n",
        "      \n",
        "        i).\tExtract the numeric value from the column\n",
        "\n",
        "        ii).\tMultiply the value by 1,000, if size is mentioned in Mb\n"
      ],
      "metadata": {
        "id": "skY5duccRcBV"
      }
    },
    {
      "cell_type": "code",
      "source": [
        "#4.1.i)\n",
        "\n",
        "def convert_size(size):\n",
        "  if 'Mb' in size:\n",
        "        return float(size.replace('Mb', '').strip()) * 1000  # Convert Mb to Kb\n",
        "  elif 'Kb' in size:\n",
        "        return float(size.replace('Kb', '').strip())\n",
        "  else:\n",
        "        return None\n",
        "df['Size(Kb)'] = df['Size'].apply(convert_size)\n",
        "print(df)\n",
        "print('*'*100)\n",
        "numeric_sizes = df['Size(Kb)']\n",
        "print(numeric_sizes)"
      ],
      "metadata": {
        "colab": {
          "base_uri": "https://localhost:8080/"
        },
        "id": "3V_Xz--4RVUB",
        "outputId": "effb6f7f-54b8-42c3-b599-2f4da6f5b5e8"
      },
      "execution_count": 189,
      "outputs": [
        {
          "output_type": "stream",
          "name": "stdout",
          "text": [
            "                                                     App             Category  \\\n",
            "0         Photo Editor & Candy Camera & Grid & ScrapBook       ART_AND_DESIGN   \n",
            "1                                    Coloring book moana       ART_AND_DESIGN   \n",
            "2      U Launcher Lite – FREE Live Cool Themes, Hide ...       ART_AND_DESIGN   \n",
            "3                                  Sketch - Draw & Paint       ART_AND_DESIGN   \n",
            "4                  Pixel Draw - Number Art Coloring Book       ART_AND_DESIGN   \n",
            "...                                                  ...                  ...   \n",
            "10836                                   Sya9a Maroc - FR               FAMILY   \n",
            "10837                   Fr. Mike Schmitz Audio Teachings               FAMILY   \n",
            "10838                             Parkinson Exercices FR              MEDICAL   \n",
            "10839                      The SCP Foundation DB fr nn5n  BOOKS_AND_REFERENCE   \n",
            "10840      iHoroscope - 2018 Daily Horoscope & Astrology            LIFESTYLE   \n",
            "\n",
            "       Rating Reviews                Size     Installs  Type Price  \\\n",
            "0         4.1     159                 19M      10,000+  Free     0   \n",
            "1         3.9     967                 14M     500,000+  Free     0   \n",
            "2         4.7   87510                8.7M   5,000,000+  Free     0   \n",
            "3         4.5  215644                 25M  50,000,000+  Free     0   \n",
            "4         4.3     967                2.8M     100,000+  Free     0   \n",
            "...       ...     ...                 ...          ...   ...   ...   \n",
            "10836     4.5      38                 53M       5,000+  Free     0   \n",
            "10837     5.0       4                3.6M         100+  Free     0   \n",
            "10838     NaN       3                9.5M       1,000+  Free     0   \n",
            "10839     4.5     114  Varies with device       1,000+  Free     0   \n",
            "10840     4.5  398307                 19M  10,000,000+  Free     0   \n",
            "\n",
            "      Content Rating                     Genres      Last Updated  \\\n",
            "0           Everyone               Art & Design   January 7, 2018   \n",
            "1           Everyone  Art & Design;Pretend Play  January 15, 2018   \n",
            "2           Everyone               Art & Design    August 1, 2018   \n",
            "3               Teen               Art & Design      June 8, 2018   \n",
            "4           Everyone    Art & Design;Creativity     June 20, 2018   \n",
            "...              ...                        ...               ...   \n",
            "10836       Everyone                  Education     July 25, 2017   \n",
            "10837       Everyone                  Education      July 6, 2018   \n",
            "10838       Everyone                    Medical  January 20, 2017   \n",
            "10839     Mature 17+          Books & Reference  January 19, 2015   \n",
            "10840       Everyone                  Lifestyle     July 25, 2018   \n",
            "\n",
            "              Current Ver         Android Ver Size(Kb)  \n",
            "0                   1.0.0        4.0.3 and up     None  \n",
            "1                   2.0.0        4.0.3 and up     None  \n",
            "2                   1.2.4        4.0.3 and up     None  \n",
            "3      Varies with device          4.2 and up     None  \n",
            "4                     1.1          4.4 and up     None  \n",
            "...                   ...                 ...      ...  \n",
            "10836                1.48          4.1 and up     None  \n",
            "10837                 1.0          4.1 and up     None  \n",
            "10838                 1.0          2.2 and up     None  \n",
            "10839  Varies with device  Varies with device     None  \n",
            "10840  Varies with device  Varies with device     None  \n",
            "\n",
            "[10841 rows x 14 columns]\n",
            "****************************************************************************************************\n",
            "0        None\n",
            "1        None\n",
            "2        None\n",
            "3        None\n",
            "4        None\n",
            "         ... \n",
            "10836    None\n",
            "10837    None\n",
            "10838    None\n",
            "10839    None\n",
            "10840    None\n",
            "Name: Size(Kb), Length: 10841, dtype: object\n"
          ]
        }
      ]
    },
    {
      "cell_type": "code",
      "source": [
        "#4.1.ii)\n",
        "\n",
        "df1['Size(Kb)'] = df1['Size'].apply(lambda x: float(x.replace('Mb', '').strip()) * 1000 if 'Mb' in x else float(x.replace('Kb', '').strip()) if 'Kb' in x else None)\n",
        "print(df1)\n",
        "print('*'*100)\n",
        "numeric_sizes = df['Size(Kb)']\n",
        "print(numeric_sizes)"
      ],
      "metadata": {
        "colab": {
          "base_uri": "https://localhost:8080/"
        },
        "id": "mSNRienTRknB",
        "outputId": "8e36aebc-6e33-4a41-d1b2-531eb3aa3be0"
      },
      "execution_count": 190,
      "outputs": [
        {
          "output_type": "stream",
          "name": "stdout",
          "text": [
            "                                                     App             Category  \\\n",
            "0         Photo Editor & Candy Camera & Grid & ScrapBook       ART_AND_DESIGN   \n",
            "1                                    Coloring book moana       ART_AND_DESIGN   \n",
            "2      U Launcher Lite – FREE Live Cool Themes, Hide ...       ART_AND_DESIGN   \n",
            "3                                  Sketch - Draw & Paint       ART_AND_DESIGN   \n",
            "4                  Pixel Draw - Number Art Coloring Book       ART_AND_DESIGN   \n",
            "...                                                  ...                  ...   \n",
            "10834                                      FR Calculator               FAMILY   \n",
            "10836                                   Sya9a Maroc - FR               FAMILY   \n",
            "10837                   Fr. Mike Schmitz Audio Teachings               FAMILY   \n",
            "10839                      The SCP Foundation DB fr nn5n  BOOKS_AND_REFERENCE   \n",
            "10840      iHoroscope - 2018 Daily Horoscope & Astrology            LIFESTYLE   \n",
            "\n",
            "       Rating Reviews                Size     Installs  Type Price  \\\n",
            "0         4.1     159                 19M      10,000+  Free     0   \n",
            "1         3.9     967                 14M     500,000+  Free     0   \n",
            "2         4.7   87510                8.7M   5,000,000+  Free     0   \n",
            "3         4.5  215644                 25M  50,000,000+  Free     0   \n",
            "4         4.3     967                2.8M     100,000+  Free     0   \n",
            "...       ...     ...                 ...          ...   ...   ...   \n",
            "10834     4.0       7                2.6M         500+  Free     0   \n",
            "10836     4.5      38                 53M       5,000+  Free     0   \n",
            "10837     5.0       4                3.6M         100+  Free     0   \n",
            "10839     4.5     114  Varies with device       1,000+  Free     0   \n",
            "10840     4.5  398307                 19M  10,000,000+  Free     0   \n",
            "\n",
            "      Content Rating                     Genres      Last Updated  \\\n",
            "0           Everyone               Art & Design   January 7, 2018   \n",
            "1           Everyone  Art & Design;Pretend Play  January 15, 2018   \n",
            "2           Everyone               Art & Design    August 1, 2018   \n",
            "3               Teen               Art & Design      June 8, 2018   \n",
            "4           Everyone    Art & Design;Creativity     June 20, 2018   \n",
            "...              ...                        ...               ...   \n",
            "10834       Everyone                  Education     June 18, 2017   \n",
            "10836       Everyone                  Education     July 25, 2017   \n",
            "10837       Everyone                  Education      July 6, 2018   \n",
            "10839     Mature 17+          Books & Reference  January 19, 2015   \n",
            "10840       Everyone                  Lifestyle     July 25, 2018   \n",
            "\n",
            "              Current Ver         Android Ver Size(Kb)  \n",
            "0                   1.0.0        4.0.3 and up     None  \n",
            "1                   2.0.0        4.0.3 and up     None  \n",
            "2                   1.2.4        4.0.3 and up     None  \n",
            "3      Varies with device          4.2 and up     None  \n",
            "4                     1.1          4.4 and up     None  \n",
            "...                   ...                 ...      ...  \n",
            "10834               1.0.0          4.1 and up     None  \n",
            "10836                1.48          4.1 and up     None  \n",
            "10837                 1.0          4.1 and up     None  \n",
            "10839  Varies with device  Varies with device     None  \n",
            "10840  Varies with device  Varies with device     None  \n",
            "\n",
            "[9360 rows x 14 columns]\n",
            "****************************************************************************************************\n",
            "0        None\n",
            "1        None\n",
            "2        None\n",
            "3        None\n",
            "4        None\n",
            "         ... \n",
            "10836    None\n",
            "10837    None\n",
            "10838    None\n",
            "10839    None\n",
            "10840    None\n",
            "Name: Size(Kb), Length: 10841, dtype: object\n"
          ]
        },
        {
          "output_type": "stream",
          "name": "stderr",
          "text": [
            "<ipython-input-190-e98e95f5cb1e>:3: SettingWithCopyWarning: \n",
            "A value is trying to be set on a copy of a slice from a DataFrame.\n",
            "Try using .loc[row_indexer,col_indexer] = value instead\n",
            "\n",
            "See the caveats in the documentation: https://pandas.pydata.org/pandas-docs/stable/user_guide/indexing.html#returning-a-view-versus-a-copy\n",
            "  df1['Size(Kb)'] = df1['Size'].apply(lambda x: float(x.replace('Mb', '').strip()) * 1000 if 'Mb' in x else float(x.replace('Kb', '').strip()) if 'Kb' in x else None)\n"
          ]
        }
      ]
    },
    {
      "cell_type": "markdown",
      "source": [
        "2.\tReviews is a numeric field that is loaded as a string field. Convert it to numeric (int/float)."
      ],
      "metadata": {
        "id": "eJT222ieSTIX"
      }
    },
    {
      "cell_type": "code",
      "source": [
        "#4.2\n",
        "\n",
        "df1['Reviews'] = pd.to_numeric(df1['Reviews'], errors='coerce').astype('Int64')\n",
        "print(df1)"
      ],
      "metadata": {
        "colab": {
          "base_uri": "https://localhost:8080/"
        },
        "id": "V0en12lHR-iW",
        "outputId": "a271e397-1672-486e-8cf0-fe821791bbee"
      },
      "execution_count": 191,
      "outputs": [
        {
          "output_type": "stream",
          "name": "stdout",
          "text": [
            "                                                     App             Category  \\\n",
            "0         Photo Editor & Candy Camera & Grid & ScrapBook       ART_AND_DESIGN   \n",
            "1                                    Coloring book moana       ART_AND_DESIGN   \n",
            "2      U Launcher Lite – FREE Live Cool Themes, Hide ...       ART_AND_DESIGN   \n",
            "3                                  Sketch - Draw & Paint       ART_AND_DESIGN   \n",
            "4                  Pixel Draw - Number Art Coloring Book       ART_AND_DESIGN   \n",
            "...                                                  ...                  ...   \n",
            "10834                                      FR Calculator               FAMILY   \n",
            "10836                                   Sya9a Maroc - FR               FAMILY   \n",
            "10837                   Fr. Mike Schmitz Audio Teachings               FAMILY   \n",
            "10839                      The SCP Foundation DB fr nn5n  BOOKS_AND_REFERENCE   \n",
            "10840      iHoroscope - 2018 Daily Horoscope & Astrology            LIFESTYLE   \n",
            "\n",
            "       Rating  Reviews                Size     Installs  Type Price  \\\n",
            "0         4.1      159                 19M      10,000+  Free     0   \n",
            "1         3.9      967                 14M     500,000+  Free     0   \n",
            "2         4.7    87510                8.7M   5,000,000+  Free     0   \n",
            "3         4.5   215644                 25M  50,000,000+  Free     0   \n",
            "4         4.3      967                2.8M     100,000+  Free     0   \n",
            "...       ...      ...                 ...          ...   ...   ...   \n",
            "10834     4.0        7                2.6M         500+  Free     0   \n",
            "10836     4.5       38                 53M       5,000+  Free     0   \n",
            "10837     5.0        4                3.6M         100+  Free     0   \n",
            "10839     4.5      114  Varies with device       1,000+  Free     0   \n",
            "10840     4.5   398307                 19M  10,000,000+  Free     0   \n",
            "\n",
            "      Content Rating                     Genres      Last Updated  \\\n",
            "0           Everyone               Art & Design   January 7, 2018   \n",
            "1           Everyone  Art & Design;Pretend Play  January 15, 2018   \n",
            "2           Everyone               Art & Design    August 1, 2018   \n",
            "3               Teen               Art & Design      June 8, 2018   \n",
            "4           Everyone    Art & Design;Creativity     June 20, 2018   \n",
            "...              ...                        ...               ...   \n",
            "10834       Everyone                  Education     June 18, 2017   \n",
            "10836       Everyone                  Education     July 25, 2017   \n",
            "10837       Everyone                  Education      July 6, 2018   \n",
            "10839     Mature 17+          Books & Reference  January 19, 2015   \n",
            "10840       Everyone                  Lifestyle     July 25, 2018   \n",
            "\n",
            "              Current Ver         Android Ver Size(Kb)  \n",
            "0                   1.0.0        4.0.3 and up     None  \n",
            "1                   2.0.0        4.0.3 and up     None  \n",
            "2                   1.2.4        4.0.3 and up     None  \n",
            "3      Varies with device          4.2 and up     None  \n",
            "4                     1.1          4.4 and up     None  \n",
            "...                   ...                 ...      ...  \n",
            "10834               1.0.0          4.1 and up     None  \n",
            "10836                1.48          4.1 and up     None  \n",
            "10837                 1.0          4.1 and up     None  \n",
            "10839  Varies with device  Varies with device     None  \n",
            "10840  Varies with device  Varies with device     None  \n",
            "\n",
            "[9360 rows x 14 columns]\n"
          ]
        },
        {
          "output_type": "stream",
          "name": "stderr",
          "text": [
            "<ipython-input-191-b366d7b2155e>:3: SettingWithCopyWarning: \n",
            "A value is trying to be set on a copy of a slice from a DataFrame.\n",
            "Try using .loc[row_indexer,col_indexer] = value instead\n",
            "\n",
            "See the caveats in the documentation: https://pandas.pydata.org/pandas-docs/stable/user_guide/indexing.html#returning-a-view-versus-a-copy\n",
            "  df1['Reviews'] = pd.to_numeric(df1['Reviews'], errors='coerce').astype('Int64')\n"
          ]
        }
      ]
    },
    {
      "cell_type": "markdown",
      "source": [
        "3.\tInstalls field is currently stored as string and has values like 1,000,000+.\n",
        "  1.\tTreat 1,000,000+ as 1,000,000\n",
        "  2.\tremove ‘+’, ‘,’ from the field, convert it to integer\n"
      ],
      "metadata": {
        "id": "1mAQYJHOShUJ"
      }
    },
    {
      "cell_type": "code",
      "source": [
        "df1['Installs'] = df1['Installs'].str.replace('+', '').str.replace(',', '')\n",
        "df1[\"Installs\"] = pd.to_numeric(df1.Installs)\n",
        "df1[\"Installs\"].dtype"
      ],
      "metadata": {
        "colab": {
          "base_uri": "https://localhost:8080/"
        },
        "id": "t1izn3ZwSXvp",
        "outputId": "52160fe3-c86e-4a14-fc58-ffc443226afd"
      },
      "execution_count": 192,
      "outputs": [
        {
          "output_type": "stream",
          "name": "stderr",
          "text": [
            "<ipython-input-192-1c686e6cb046>:1: FutureWarning: The default value of regex will change from True to False in a future version. In addition, single character regular expressions will *not* be treated as literal strings when regex=True.\n",
            "  df1['Installs'] = df1['Installs'].str.replace('+', '').str.replace(',', '')\n",
            "<ipython-input-192-1c686e6cb046>:1: SettingWithCopyWarning: \n",
            "A value is trying to be set on a copy of a slice from a DataFrame.\n",
            "Try using .loc[row_indexer,col_indexer] = value instead\n",
            "\n",
            "See the caveats in the documentation: https://pandas.pydata.org/pandas-docs/stable/user_guide/indexing.html#returning-a-view-versus-a-copy\n",
            "  df1['Installs'] = df1['Installs'].str.replace('+', '').str.replace(',', '')\n",
            "<ipython-input-192-1c686e6cb046>:2: SettingWithCopyWarning: \n",
            "A value is trying to be set on a copy of a slice from a DataFrame.\n",
            "Try using .loc[row_indexer,col_indexer] = value instead\n",
            "\n",
            "See the caveats in the documentation: https://pandas.pydata.org/pandas-docs/stable/user_guide/indexing.html#returning-a-view-versus-a-copy\n",
            "  df1[\"Installs\"] = pd.to_numeric(df1.Installs)\n"
          ]
        },
        {
          "output_type": "execute_result",
          "data": {
            "text/plain": [
              "dtype('int64')"
            ]
          },
          "metadata": {},
          "execution_count": 192
        }
      ]
    },
    {
      "cell_type": "code",
      "source": [
        "print(df1)"
      ],
      "metadata": {
        "colab": {
          "base_uri": "https://localhost:8080/"
        },
        "id": "8dXgU97oSkFr",
        "outputId": "a2fc5a81-1160-4638-b5b1-a48534f2ebdd"
      },
      "execution_count": 193,
      "outputs": [
        {
          "output_type": "stream",
          "name": "stdout",
          "text": [
            "                                                     App             Category  \\\n",
            "0         Photo Editor & Candy Camera & Grid & ScrapBook       ART_AND_DESIGN   \n",
            "1                                    Coloring book moana       ART_AND_DESIGN   \n",
            "2      U Launcher Lite – FREE Live Cool Themes, Hide ...       ART_AND_DESIGN   \n",
            "3                                  Sketch - Draw & Paint       ART_AND_DESIGN   \n",
            "4                  Pixel Draw - Number Art Coloring Book       ART_AND_DESIGN   \n",
            "...                                                  ...                  ...   \n",
            "10834                                      FR Calculator               FAMILY   \n",
            "10836                                   Sya9a Maroc - FR               FAMILY   \n",
            "10837                   Fr. Mike Schmitz Audio Teachings               FAMILY   \n",
            "10839                      The SCP Foundation DB fr nn5n  BOOKS_AND_REFERENCE   \n",
            "10840      iHoroscope - 2018 Daily Horoscope & Astrology            LIFESTYLE   \n",
            "\n",
            "       Rating  Reviews                Size  Installs  Type Price  \\\n",
            "0         4.1      159                 19M     10000  Free     0   \n",
            "1         3.9      967                 14M    500000  Free     0   \n",
            "2         4.7    87510                8.7M   5000000  Free     0   \n",
            "3         4.5   215644                 25M  50000000  Free     0   \n",
            "4         4.3      967                2.8M    100000  Free     0   \n",
            "...       ...      ...                 ...       ...   ...   ...   \n",
            "10834     4.0        7                2.6M       500  Free     0   \n",
            "10836     4.5       38                 53M      5000  Free     0   \n",
            "10837     5.0        4                3.6M       100  Free     0   \n",
            "10839     4.5      114  Varies with device      1000  Free     0   \n",
            "10840     4.5   398307                 19M  10000000  Free     0   \n",
            "\n",
            "      Content Rating                     Genres      Last Updated  \\\n",
            "0           Everyone               Art & Design   January 7, 2018   \n",
            "1           Everyone  Art & Design;Pretend Play  January 15, 2018   \n",
            "2           Everyone               Art & Design    August 1, 2018   \n",
            "3               Teen               Art & Design      June 8, 2018   \n",
            "4           Everyone    Art & Design;Creativity     June 20, 2018   \n",
            "...              ...                        ...               ...   \n",
            "10834       Everyone                  Education     June 18, 2017   \n",
            "10836       Everyone                  Education     July 25, 2017   \n",
            "10837       Everyone                  Education      July 6, 2018   \n",
            "10839     Mature 17+          Books & Reference  January 19, 2015   \n",
            "10840       Everyone                  Lifestyle     July 25, 2018   \n",
            "\n",
            "              Current Ver         Android Ver Size(Kb)  \n",
            "0                   1.0.0        4.0.3 and up     None  \n",
            "1                   2.0.0        4.0.3 and up     None  \n",
            "2                   1.2.4        4.0.3 and up     None  \n",
            "3      Varies with device          4.2 and up     None  \n",
            "4                     1.1          4.4 and up     None  \n",
            "...                   ...                 ...      ...  \n",
            "10834               1.0.0          4.1 and up     None  \n",
            "10836                1.48          4.1 and up     None  \n",
            "10837                 1.0          4.1 and up     None  \n",
            "10839  Varies with device  Varies with device     None  \n",
            "10840  Varies with device  Varies with device     None  \n",
            "\n",
            "[9360 rows x 14 columns]\n"
          ]
        }
      ]
    },
    {
      "cell_type": "markdown",
      "source": [
        "4.\tPrice field is a string and has $ symbol. Remove $ sign, and convert it to numeric.\n",
        "\n",
        "> Indented block\n",
        "\n"
      ],
      "metadata": {
        "id": "t0nU_OZyoeWi"
      }
    },
    {
      "cell_type": "code",
      "source": [
        "df1['Price'] = df1['Price'].str.replace('$', '')\n",
        "df1[\"Price\"] = pd.to_numeric(df1.Price)\n",
        "print(df1)"
      ],
      "metadata": {
        "id": "4zIC6SRWoiUa",
        "colab": {
          "base_uri": "https://localhost:8080/"
        },
        "outputId": "37f9c4aa-941d-47bb-a04f-30e06423ab78"
      },
      "execution_count": 194,
      "outputs": [
        {
          "output_type": "stream",
          "name": "stdout",
          "text": [
            "                                                     App             Category  \\\n",
            "0         Photo Editor & Candy Camera & Grid & ScrapBook       ART_AND_DESIGN   \n",
            "1                                    Coloring book moana       ART_AND_DESIGN   \n",
            "2      U Launcher Lite – FREE Live Cool Themes, Hide ...       ART_AND_DESIGN   \n",
            "3                                  Sketch - Draw & Paint       ART_AND_DESIGN   \n",
            "4                  Pixel Draw - Number Art Coloring Book       ART_AND_DESIGN   \n",
            "...                                                  ...                  ...   \n",
            "10834                                      FR Calculator               FAMILY   \n",
            "10836                                   Sya9a Maroc - FR               FAMILY   \n",
            "10837                   Fr. Mike Schmitz Audio Teachings               FAMILY   \n",
            "10839                      The SCP Foundation DB fr nn5n  BOOKS_AND_REFERENCE   \n",
            "10840      iHoroscope - 2018 Daily Horoscope & Astrology            LIFESTYLE   \n",
            "\n",
            "       Rating  Reviews                Size  Installs  Type  Price  \\\n",
            "0         4.1      159                 19M     10000  Free    0.0   \n",
            "1         3.9      967                 14M    500000  Free    0.0   \n",
            "2         4.7    87510                8.7M   5000000  Free    0.0   \n",
            "3         4.5   215644                 25M  50000000  Free    0.0   \n",
            "4         4.3      967                2.8M    100000  Free    0.0   \n",
            "...       ...      ...                 ...       ...   ...    ...   \n",
            "10834     4.0        7                2.6M       500  Free    0.0   \n",
            "10836     4.5       38                 53M      5000  Free    0.0   \n",
            "10837     5.0        4                3.6M       100  Free    0.0   \n",
            "10839     4.5      114  Varies with device      1000  Free    0.0   \n",
            "10840     4.5   398307                 19M  10000000  Free    0.0   \n",
            "\n",
            "      Content Rating                     Genres      Last Updated  \\\n",
            "0           Everyone               Art & Design   January 7, 2018   \n",
            "1           Everyone  Art & Design;Pretend Play  January 15, 2018   \n",
            "2           Everyone               Art & Design    August 1, 2018   \n",
            "3               Teen               Art & Design      June 8, 2018   \n",
            "4           Everyone    Art & Design;Creativity     June 20, 2018   \n",
            "...              ...                        ...               ...   \n",
            "10834       Everyone                  Education     June 18, 2017   \n",
            "10836       Everyone                  Education     July 25, 2017   \n",
            "10837       Everyone                  Education      July 6, 2018   \n",
            "10839     Mature 17+          Books & Reference  January 19, 2015   \n",
            "10840       Everyone                  Lifestyle     July 25, 2018   \n",
            "\n",
            "              Current Ver         Android Ver Size(Kb)  \n",
            "0                   1.0.0        4.0.3 and up     None  \n",
            "1                   2.0.0        4.0.3 and up     None  \n",
            "2                   1.2.4        4.0.3 and up     None  \n",
            "3      Varies with device          4.2 and up     None  \n",
            "4                     1.1          4.4 and up     None  \n",
            "...                   ...                 ...      ...  \n",
            "10834               1.0.0          4.1 and up     None  \n",
            "10836                1.48          4.1 and up     None  \n",
            "10837                 1.0          4.1 and up     None  \n",
            "10839  Varies with device  Varies with device     None  \n",
            "10840  Varies with device  Varies with device     None  \n",
            "\n",
            "[9360 rows x 14 columns]\n"
          ]
        },
        {
          "output_type": "stream",
          "name": "stderr",
          "text": [
            "<ipython-input-194-5502a0e70ddf>:1: FutureWarning: The default value of regex will change from True to False in a future version. In addition, single character regular expressions will *not* be treated as literal strings when regex=True.\n",
            "  df1['Price'] = df1['Price'].str.replace('$', '')\n",
            "<ipython-input-194-5502a0e70ddf>:1: SettingWithCopyWarning: \n",
            "A value is trying to be set on a copy of a slice from a DataFrame.\n",
            "Try using .loc[row_indexer,col_indexer] = value instead\n",
            "\n",
            "See the caveats in the documentation: https://pandas.pydata.org/pandas-docs/stable/user_guide/indexing.html#returning-a-view-versus-a-copy\n",
            "  df1['Price'] = df1['Price'].str.replace('$', '')\n",
            "<ipython-input-194-5502a0e70ddf>:2: SettingWithCopyWarning: \n",
            "A value is trying to be set on a copy of a slice from a DataFrame.\n",
            "Try using .loc[row_indexer,col_indexer] = value instead\n",
            "\n",
            "See the caveats in the documentation: https://pandas.pydata.org/pandas-docs/stable/user_guide/indexing.html#returning-a-view-versus-a-copy\n",
            "  df1[\"Price\"] = pd.to_numeric(df1.Price)\n"
          ]
        }
      ]
    },
    {
      "cell_type": "markdown",
      "source": [
        "\n",
        "**5. Sanity checks:**\n",
        "\n",
        "  i.Average rating should be between 1 and 5 as only these values are allowed on the play store. Drop the rows that have a value outside this range.\n"
      ],
      "metadata": {
        "id": "mX8OBqdEff3s"
      }
    },
    {
      "cell_type": "code",
      "source": [
        "df1 = df1[(df1.Rating>=1) & (df1.Rating<=5)]\n",
        "df1[\"Rating\"]\n",
        "#here the rating column should be greater than or equal 1 and less thsn 5 '&' operator is used to combine both the values"
      ],
      "metadata": {
        "id": "iIQHrwRPg8sb",
        "colab": {
          "base_uri": "https://localhost:8080/"
        },
        "outputId": "9536bc76-c859-4c60-91aa-0d6adc8776c9"
      },
      "execution_count": 195,
      "outputs": [
        {
          "output_type": "execute_result",
          "data": {
            "text/plain": [
              "0        4.1\n",
              "1        3.9\n",
              "2        4.7\n",
              "3        4.5\n",
              "4        4.3\n",
              "        ... \n",
              "10834    4.0\n",
              "10836    4.5\n",
              "10837    5.0\n",
              "10839    4.5\n",
              "10840    4.5\n",
              "Name: Rating, Length: 9360, dtype: float64"
            ]
          },
          "metadata": {},
          "execution_count": 195
        }
      ]
    },
    {
      "cell_type": "code",
      "source": [
        "df1.head(5)\n",
        "#displays the first 5 rows"
      ],
      "metadata": {
        "id": "IUPQO6_QhVR1",
        "colab": {
          "base_uri": "https://localhost:8080/",
          "height": 206
        },
        "outputId": "219026b8-8efa-40cb-96c7-40480413de7f"
      },
      "execution_count": 196,
      "outputs": [
        {
          "output_type": "execute_result",
          "data": {
            "text/plain": [
              "                                                 App        Category  Rating  \\\n",
              "0     Photo Editor & Candy Camera & Grid & ScrapBook  ART_AND_DESIGN     4.1   \n",
              "1                                Coloring book moana  ART_AND_DESIGN     3.9   \n",
              "2  U Launcher Lite – FREE Live Cool Themes, Hide ...  ART_AND_DESIGN     4.7   \n",
              "3                              Sketch - Draw & Paint  ART_AND_DESIGN     4.5   \n",
              "4              Pixel Draw - Number Art Coloring Book  ART_AND_DESIGN     4.3   \n",
              "\n",
              "   Reviews  Size  Installs  Type  Price Content Rating  \\\n",
              "0      159   19M     10000  Free    0.0       Everyone   \n",
              "1      967   14M    500000  Free    0.0       Everyone   \n",
              "2    87510  8.7M   5000000  Free    0.0       Everyone   \n",
              "3   215644   25M  50000000  Free    0.0           Teen   \n",
              "4      967  2.8M    100000  Free    0.0       Everyone   \n",
              "\n",
              "                      Genres      Last Updated         Current Ver  \\\n",
              "0               Art & Design   January 7, 2018               1.0.0   \n",
              "1  Art & Design;Pretend Play  January 15, 2018               2.0.0   \n",
              "2               Art & Design    August 1, 2018               1.2.4   \n",
              "3               Art & Design      June 8, 2018  Varies with device   \n",
              "4    Art & Design;Creativity     June 20, 2018                 1.1   \n",
              "\n",
              "    Android Ver Size(Kb)  \n",
              "0  4.0.3 and up     None  \n",
              "1  4.0.3 and up     None  \n",
              "2  4.0.3 and up     None  \n",
              "3    4.2 and up     None  \n",
              "4    4.4 and up     None  "
            ],
            "text/html": [
              "\n",
              "  <div id=\"df-e8ce6c71-3054-4945-99b2-cb7916c5d183\" class=\"colab-df-container\">\n",
              "    <div>\n",
              "<style scoped>\n",
              "    .dataframe tbody tr th:only-of-type {\n",
              "        vertical-align: middle;\n",
              "    }\n",
              "\n",
              "    .dataframe tbody tr th {\n",
              "        vertical-align: top;\n",
              "    }\n",
              "\n",
              "    .dataframe thead th {\n",
              "        text-align: right;\n",
              "    }\n",
              "</style>\n",
              "<table border=\"1\" class=\"dataframe\">\n",
              "  <thead>\n",
              "    <tr style=\"text-align: right;\">\n",
              "      <th></th>\n",
              "      <th>App</th>\n",
              "      <th>Category</th>\n",
              "      <th>Rating</th>\n",
              "      <th>Reviews</th>\n",
              "      <th>Size</th>\n",
              "      <th>Installs</th>\n",
              "      <th>Type</th>\n",
              "      <th>Price</th>\n",
              "      <th>Content Rating</th>\n",
              "      <th>Genres</th>\n",
              "      <th>Last Updated</th>\n",
              "      <th>Current Ver</th>\n",
              "      <th>Android Ver</th>\n",
              "      <th>Size(Kb)</th>\n",
              "    </tr>\n",
              "  </thead>\n",
              "  <tbody>\n",
              "    <tr>\n",
              "      <th>0</th>\n",
              "      <td>Photo Editor &amp; Candy Camera &amp; Grid &amp; ScrapBook</td>\n",
              "      <td>ART_AND_DESIGN</td>\n",
              "      <td>4.1</td>\n",
              "      <td>159</td>\n",
              "      <td>19M</td>\n",
              "      <td>10000</td>\n",
              "      <td>Free</td>\n",
              "      <td>0.0</td>\n",
              "      <td>Everyone</td>\n",
              "      <td>Art &amp; Design</td>\n",
              "      <td>January 7, 2018</td>\n",
              "      <td>1.0.0</td>\n",
              "      <td>4.0.3 and up</td>\n",
              "      <td>None</td>\n",
              "    </tr>\n",
              "    <tr>\n",
              "      <th>1</th>\n",
              "      <td>Coloring book moana</td>\n",
              "      <td>ART_AND_DESIGN</td>\n",
              "      <td>3.9</td>\n",
              "      <td>967</td>\n",
              "      <td>14M</td>\n",
              "      <td>500000</td>\n",
              "      <td>Free</td>\n",
              "      <td>0.0</td>\n",
              "      <td>Everyone</td>\n",
              "      <td>Art &amp; Design;Pretend Play</td>\n",
              "      <td>January 15, 2018</td>\n",
              "      <td>2.0.0</td>\n",
              "      <td>4.0.3 and up</td>\n",
              "      <td>None</td>\n",
              "    </tr>\n",
              "    <tr>\n",
              "      <th>2</th>\n",
              "      <td>U Launcher Lite – FREE Live Cool Themes, Hide ...</td>\n",
              "      <td>ART_AND_DESIGN</td>\n",
              "      <td>4.7</td>\n",
              "      <td>87510</td>\n",
              "      <td>8.7M</td>\n",
              "      <td>5000000</td>\n",
              "      <td>Free</td>\n",
              "      <td>0.0</td>\n",
              "      <td>Everyone</td>\n",
              "      <td>Art &amp; Design</td>\n",
              "      <td>August 1, 2018</td>\n",
              "      <td>1.2.4</td>\n",
              "      <td>4.0.3 and up</td>\n",
              "      <td>None</td>\n",
              "    </tr>\n",
              "    <tr>\n",
              "      <th>3</th>\n",
              "      <td>Sketch - Draw &amp; Paint</td>\n",
              "      <td>ART_AND_DESIGN</td>\n",
              "      <td>4.5</td>\n",
              "      <td>215644</td>\n",
              "      <td>25M</td>\n",
              "      <td>50000000</td>\n",
              "      <td>Free</td>\n",
              "      <td>0.0</td>\n",
              "      <td>Teen</td>\n",
              "      <td>Art &amp; Design</td>\n",
              "      <td>June 8, 2018</td>\n",
              "      <td>Varies with device</td>\n",
              "      <td>4.2 and up</td>\n",
              "      <td>None</td>\n",
              "    </tr>\n",
              "    <tr>\n",
              "      <th>4</th>\n",
              "      <td>Pixel Draw - Number Art Coloring Book</td>\n",
              "      <td>ART_AND_DESIGN</td>\n",
              "      <td>4.3</td>\n",
              "      <td>967</td>\n",
              "      <td>2.8M</td>\n",
              "      <td>100000</td>\n",
              "      <td>Free</td>\n",
              "      <td>0.0</td>\n",
              "      <td>Everyone</td>\n",
              "      <td>Art &amp; Design;Creativity</td>\n",
              "      <td>June 20, 2018</td>\n",
              "      <td>1.1</td>\n",
              "      <td>4.4 and up</td>\n",
              "      <td>None</td>\n",
              "    </tr>\n",
              "  </tbody>\n",
              "</table>\n",
              "</div>\n",
              "    <div class=\"colab-df-buttons\">\n",
              "\n",
              "  <div class=\"colab-df-container\">\n",
              "    <button class=\"colab-df-convert\" onclick=\"convertToInteractive('df-e8ce6c71-3054-4945-99b2-cb7916c5d183')\"\n",
              "            title=\"Convert this dataframe to an interactive table.\"\n",
              "            style=\"display:none;\">\n",
              "\n",
              "  <svg xmlns=\"http://www.w3.org/2000/svg\" height=\"24px\" viewBox=\"0 -960 960 960\">\n",
              "    <path d=\"M120-120v-720h720v720H120Zm60-500h600v-160H180v160Zm220 220h160v-160H400v160Zm0 220h160v-160H400v160ZM180-400h160v-160H180v160Zm440 0h160v-160H620v160ZM180-180h160v-160H180v160Zm440 0h160v-160H620v160Z\"/>\n",
              "  </svg>\n",
              "    </button>\n",
              "\n",
              "  <style>\n",
              "    .colab-df-container {\n",
              "      display:flex;\n",
              "      gap: 12px;\n",
              "    }\n",
              "\n",
              "    .colab-df-convert {\n",
              "      background-color: #E8F0FE;\n",
              "      border: none;\n",
              "      border-radius: 50%;\n",
              "      cursor: pointer;\n",
              "      display: none;\n",
              "      fill: #1967D2;\n",
              "      height: 32px;\n",
              "      padding: 0 0 0 0;\n",
              "      width: 32px;\n",
              "    }\n",
              "\n",
              "    .colab-df-convert:hover {\n",
              "      background-color: #E2EBFA;\n",
              "      box-shadow: 0px 1px 2px rgba(60, 64, 67, 0.3), 0px 1px 3px 1px rgba(60, 64, 67, 0.15);\n",
              "      fill: #174EA6;\n",
              "    }\n",
              "\n",
              "    .colab-df-buttons div {\n",
              "      margin-bottom: 4px;\n",
              "    }\n",
              "\n",
              "    [theme=dark] .colab-df-convert {\n",
              "      background-color: #3B4455;\n",
              "      fill: #D2E3FC;\n",
              "    }\n",
              "\n",
              "    [theme=dark] .colab-df-convert:hover {\n",
              "      background-color: #434B5C;\n",
              "      box-shadow: 0px 1px 3px 1px rgba(0, 0, 0, 0.15);\n",
              "      filter: drop-shadow(0px 1px 2px rgba(0, 0, 0, 0.3));\n",
              "      fill: #FFFFFF;\n",
              "    }\n",
              "  </style>\n",
              "\n",
              "    <script>\n",
              "      const buttonEl =\n",
              "        document.querySelector('#df-e8ce6c71-3054-4945-99b2-cb7916c5d183 button.colab-df-convert');\n",
              "      buttonEl.style.display =\n",
              "        google.colab.kernel.accessAllowed ? 'block' : 'none';\n",
              "\n",
              "      async function convertToInteractive(key) {\n",
              "        const element = document.querySelector('#df-e8ce6c71-3054-4945-99b2-cb7916c5d183');\n",
              "        const dataTable =\n",
              "          await google.colab.kernel.invokeFunction('convertToInteractive',\n",
              "                                                    [key], {});\n",
              "        if (!dataTable) return;\n",
              "\n",
              "        const docLinkHtml = 'Like what you see? Visit the ' +\n",
              "          '<a target=\"_blank\" href=https://colab.research.google.com/notebooks/data_table.ipynb>data table notebook</a>'\n",
              "          + ' to learn more about interactive tables.';\n",
              "        element.innerHTML = '';\n",
              "        dataTable['output_type'] = 'display_data';\n",
              "        await google.colab.output.renderOutput(dataTable, element);\n",
              "        const docLink = document.createElement('div');\n",
              "        docLink.innerHTML = docLinkHtml;\n",
              "        element.appendChild(docLink);\n",
              "      }\n",
              "    </script>\n",
              "  </div>\n",
              "\n",
              "\n",
              "<div id=\"df-88085b6d-0305-4412-aa8c-2bcf0e921e4e\">\n",
              "  <button class=\"colab-df-quickchart\" onclick=\"quickchart('df-88085b6d-0305-4412-aa8c-2bcf0e921e4e')\"\n",
              "            title=\"Suggest charts\"\n",
              "            style=\"display:none;\">\n",
              "\n",
              "<svg xmlns=\"http://www.w3.org/2000/svg\" height=\"24px\"viewBox=\"0 0 24 24\"\n",
              "     width=\"24px\">\n",
              "    <g>\n",
              "        <path d=\"M19 3H5c-1.1 0-2 .9-2 2v14c0 1.1.9 2 2 2h14c1.1 0 2-.9 2-2V5c0-1.1-.9-2-2-2zM9 17H7v-7h2v7zm4 0h-2V7h2v10zm4 0h-2v-4h2v4z\"/>\n",
              "    </g>\n",
              "</svg>\n",
              "  </button>\n",
              "\n",
              "<style>\n",
              "  .colab-df-quickchart {\n",
              "      --bg-color: #E8F0FE;\n",
              "      --fill-color: #1967D2;\n",
              "      --hover-bg-color: #E2EBFA;\n",
              "      --hover-fill-color: #174EA6;\n",
              "      --disabled-fill-color: #AAA;\n",
              "      --disabled-bg-color: #DDD;\n",
              "  }\n",
              "\n",
              "  [theme=dark] .colab-df-quickchart {\n",
              "      --bg-color: #3B4455;\n",
              "      --fill-color: #D2E3FC;\n",
              "      --hover-bg-color: #434B5C;\n",
              "      --hover-fill-color: #FFFFFF;\n",
              "      --disabled-bg-color: #3B4455;\n",
              "      --disabled-fill-color: #666;\n",
              "  }\n",
              "\n",
              "  .colab-df-quickchart {\n",
              "    background-color: var(--bg-color);\n",
              "    border: none;\n",
              "    border-radius: 50%;\n",
              "    cursor: pointer;\n",
              "    display: none;\n",
              "    fill: var(--fill-color);\n",
              "    height: 32px;\n",
              "    padding: 0;\n",
              "    width: 32px;\n",
              "  }\n",
              "\n",
              "  .colab-df-quickchart:hover {\n",
              "    background-color: var(--hover-bg-color);\n",
              "    box-shadow: 0 1px 2px rgba(60, 64, 67, 0.3), 0 1px 3px 1px rgba(60, 64, 67, 0.15);\n",
              "    fill: var(--button-hover-fill-color);\n",
              "  }\n",
              "\n",
              "  .colab-df-quickchart-complete:disabled,\n",
              "  .colab-df-quickchart-complete:disabled:hover {\n",
              "    background-color: var(--disabled-bg-color);\n",
              "    fill: var(--disabled-fill-color);\n",
              "    box-shadow: none;\n",
              "  }\n",
              "\n",
              "  .colab-df-spinner {\n",
              "    border: 2px solid var(--fill-color);\n",
              "    border-color: transparent;\n",
              "    border-bottom-color: var(--fill-color);\n",
              "    animation:\n",
              "      spin 1s steps(1) infinite;\n",
              "  }\n",
              "\n",
              "  @keyframes spin {\n",
              "    0% {\n",
              "      border-color: transparent;\n",
              "      border-bottom-color: var(--fill-color);\n",
              "      border-left-color: var(--fill-color);\n",
              "    }\n",
              "    20% {\n",
              "      border-color: transparent;\n",
              "      border-left-color: var(--fill-color);\n",
              "      border-top-color: var(--fill-color);\n",
              "    }\n",
              "    30% {\n",
              "      border-color: transparent;\n",
              "      border-left-color: var(--fill-color);\n",
              "      border-top-color: var(--fill-color);\n",
              "      border-right-color: var(--fill-color);\n",
              "    }\n",
              "    40% {\n",
              "      border-color: transparent;\n",
              "      border-right-color: var(--fill-color);\n",
              "      border-top-color: var(--fill-color);\n",
              "    }\n",
              "    60% {\n",
              "      border-color: transparent;\n",
              "      border-right-color: var(--fill-color);\n",
              "    }\n",
              "    80% {\n",
              "      border-color: transparent;\n",
              "      border-right-color: var(--fill-color);\n",
              "      border-bottom-color: var(--fill-color);\n",
              "    }\n",
              "    90% {\n",
              "      border-color: transparent;\n",
              "      border-bottom-color: var(--fill-color);\n",
              "    }\n",
              "  }\n",
              "</style>\n",
              "\n",
              "  <script>\n",
              "    async function quickchart(key) {\n",
              "      const quickchartButtonEl =\n",
              "        document.querySelector('#' + key + ' button');\n",
              "      quickchartButtonEl.disabled = true;  // To prevent multiple clicks.\n",
              "      quickchartButtonEl.classList.add('colab-df-spinner');\n",
              "      try {\n",
              "        const charts = await google.colab.kernel.invokeFunction(\n",
              "            'suggestCharts', [key], {});\n",
              "      } catch (error) {\n",
              "        console.error('Error during call to suggestCharts:', error);\n",
              "      }\n",
              "      quickchartButtonEl.classList.remove('colab-df-spinner');\n",
              "      quickchartButtonEl.classList.add('colab-df-quickchart-complete');\n",
              "    }\n",
              "    (() => {\n",
              "      let quickchartButtonEl =\n",
              "        document.querySelector('#df-88085b6d-0305-4412-aa8c-2bcf0e921e4e button');\n",
              "      quickchartButtonEl.style.display =\n",
              "        google.colab.kernel.accessAllowed ? 'block' : 'none';\n",
              "    })();\n",
              "  </script>\n",
              "</div>\n",
              "\n",
              "    </div>\n",
              "  </div>\n"
            ]
          },
          "metadata": {},
          "execution_count": 196
        }
      ]
    },
    {
      "cell_type": "code",
      "source": [
        "len(df1.index)\n",
        "#number of datasets remaining after removing the ones having ratings not between 1 and 5"
      ],
      "metadata": {
        "id": "zNtOMZa6hYu7",
        "colab": {
          "base_uri": "https://localhost:8080/"
        },
        "outputId": "d900c721-5fed-475f-e50c-42a4bba06b76"
      },
      "execution_count": 197,
      "outputs": [
        {
          "output_type": "execute_result",
          "data": {
            "text/plain": [
              "9360"
            ]
          },
          "metadata": {},
          "execution_count": 197
        }
      ]
    },
    {
      "cell_type": "markdown",
      "source": [
        "ii.\tReviews should not be more than installs as only those who installed can review the app. If there are any such records, drop them."
      ],
      "metadata": {
        "id": "32C8xOA9htPi"
      }
    },
    {
      "cell_type": "code",
      "source": [
        "df1.drop(df1.index[df1.Reviews>df1.Installs],axis=0,inplace=True)\n",
        "#used to drop rows specified by their indices."
      ],
      "metadata": {
        "id": "UhasapDvibK0"
      },
      "execution_count": 198,
      "outputs": []
    },
    {
      "cell_type": "code",
      "source": [
        "len(df1.index)\n",
        "#determine the size or length of data structures"
      ],
      "metadata": {
        "id": "cAfucV2ZlIBQ",
        "colab": {
          "base_uri": "https://localhost:8080/"
        },
        "outputId": "5299cbe7-f322-400c-e694-a6346fa4fc23"
      },
      "execution_count": 199,
      "outputs": [
        {
          "output_type": "execute_result",
          "data": {
            "text/plain": [
              "9353"
            ]
          },
          "metadata": {},
          "execution_count": 199
        }
      ]
    },
    {
      "cell_type": "code",
      "source": [
        "#built in python module which ignores warnings\n",
        "\"\"\"\n",
        "import warnings\n",
        "warnings.filterwarnings('ignore')\n",
        "\"\"\"\n"
      ],
      "metadata": {
        "id": "iRV97cpVlflV",
        "colab": {
          "base_uri": "https://localhost:8080/",
          "height": 35
        },
        "outputId": "4f93a4f6-21fe-416d-8b32-156c28cdd7d5"
      },
      "execution_count": 200,
      "outputs": [
        {
          "output_type": "execute_result",
          "data": {
            "text/plain": [
              "\"\\nimport warnings\\nwarnings.filterwarnings('ignore')\\n\""
            ],
            "application/vnd.google.colaboratory.intrinsic+json": {
              "type": "string"
            }
          },
          "metadata": {},
          "execution_count": 200
        }
      ]
    },
    {
      "cell_type": "code",
      "source": [
        "df1[(df1[\"Type\"]==\"Free\") & (df1[\"Price\"]>0)]  #since there are no such data, hence nothing is dropped"
      ],
      "metadata": {
        "id": "hJEn0UsGmmWE",
        "colab": {
          "base_uri": "https://localhost:8080/",
          "height": 53
        },
        "outputId": "8a82255c-d655-48cc-ca04-7cac3445c64f"
      },
      "execution_count": 201,
      "outputs": [
        {
          "output_type": "execute_result",
          "data": {
            "text/plain": [
              "Empty DataFrame\n",
              "Columns: [App, Category, Rating, Reviews, Size, Installs, Type, Price, Content Rating, Genres, Last Updated, Current Ver, Android Ver, Size(Kb)]\n",
              "Index: []"
            ],
            "text/html": [
              "\n",
              "  <div id=\"df-c697be18-ea3e-4f33-9f7d-09e33abcd66e\" class=\"colab-df-container\">\n",
              "    <div>\n",
              "<style scoped>\n",
              "    .dataframe tbody tr th:only-of-type {\n",
              "        vertical-align: middle;\n",
              "    }\n",
              "\n",
              "    .dataframe tbody tr th {\n",
              "        vertical-align: top;\n",
              "    }\n",
              "\n",
              "    .dataframe thead th {\n",
              "        text-align: right;\n",
              "    }\n",
              "</style>\n",
              "<table border=\"1\" class=\"dataframe\">\n",
              "  <thead>\n",
              "    <tr style=\"text-align: right;\">\n",
              "      <th></th>\n",
              "      <th>App</th>\n",
              "      <th>Category</th>\n",
              "      <th>Rating</th>\n",
              "      <th>Reviews</th>\n",
              "      <th>Size</th>\n",
              "      <th>Installs</th>\n",
              "      <th>Type</th>\n",
              "      <th>Price</th>\n",
              "      <th>Content Rating</th>\n",
              "      <th>Genres</th>\n",
              "      <th>Last Updated</th>\n",
              "      <th>Current Ver</th>\n",
              "      <th>Android Ver</th>\n",
              "      <th>Size(Kb)</th>\n",
              "    </tr>\n",
              "  </thead>\n",
              "  <tbody>\n",
              "  </tbody>\n",
              "</table>\n",
              "</div>\n",
              "    <div class=\"colab-df-buttons\">\n",
              "\n",
              "  <div class=\"colab-df-container\">\n",
              "    <button class=\"colab-df-convert\" onclick=\"convertToInteractive('df-c697be18-ea3e-4f33-9f7d-09e33abcd66e')\"\n",
              "            title=\"Convert this dataframe to an interactive table.\"\n",
              "            style=\"display:none;\">\n",
              "\n",
              "  <svg xmlns=\"http://www.w3.org/2000/svg\" height=\"24px\" viewBox=\"0 -960 960 960\">\n",
              "    <path d=\"M120-120v-720h720v720H120Zm60-500h600v-160H180v160Zm220 220h160v-160H400v160Zm0 220h160v-160H400v160ZM180-400h160v-160H180v160Zm440 0h160v-160H620v160ZM180-180h160v-160H180v160Zm440 0h160v-160H620v160Z\"/>\n",
              "  </svg>\n",
              "    </button>\n",
              "\n",
              "  <style>\n",
              "    .colab-df-container {\n",
              "      display:flex;\n",
              "      gap: 12px;\n",
              "    }\n",
              "\n",
              "    .colab-df-convert {\n",
              "      background-color: #E8F0FE;\n",
              "      border: none;\n",
              "      border-radius: 50%;\n",
              "      cursor: pointer;\n",
              "      display: none;\n",
              "      fill: #1967D2;\n",
              "      height: 32px;\n",
              "      padding: 0 0 0 0;\n",
              "      width: 32px;\n",
              "    }\n",
              "\n",
              "    .colab-df-convert:hover {\n",
              "      background-color: #E2EBFA;\n",
              "      box-shadow: 0px 1px 2px rgba(60, 64, 67, 0.3), 0px 1px 3px 1px rgba(60, 64, 67, 0.15);\n",
              "      fill: #174EA6;\n",
              "    }\n",
              "\n",
              "    .colab-df-buttons div {\n",
              "      margin-bottom: 4px;\n",
              "    }\n",
              "\n",
              "    [theme=dark] .colab-df-convert {\n",
              "      background-color: #3B4455;\n",
              "      fill: #D2E3FC;\n",
              "    }\n",
              "\n",
              "    [theme=dark] .colab-df-convert:hover {\n",
              "      background-color: #434B5C;\n",
              "      box-shadow: 0px 1px 3px 1px rgba(0, 0, 0, 0.15);\n",
              "      filter: drop-shadow(0px 1px 2px rgba(0, 0, 0, 0.3));\n",
              "      fill: #FFFFFF;\n",
              "    }\n",
              "  </style>\n",
              "\n",
              "    <script>\n",
              "      const buttonEl =\n",
              "        document.querySelector('#df-c697be18-ea3e-4f33-9f7d-09e33abcd66e button.colab-df-convert');\n",
              "      buttonEl.style.display =\n",
              "        google.colab.kernel.accessAllowed ? 'block' : 'none';\n",
              "\n",
              "      async function convertToInteractive(key) {\n",
              "        const element = document.querySelector('#df-c697be18-ea3e-4f33-9f7d-09e33abcd66e');\n",
              "        const dataTable =\n",
              "          await google.colab.kernel.invokeFunction('convertToInteractive',\n",
              "                                                    [key], {});\n",
              "        if (!dataTable) return;\n",
              "\n",
              "        const docLinkHtml = 'Like what you see? Visit the ' +\n",
              "          '<a target=\"_blank\" href=https://colab.research.google.com/notebooks/data_table.ipynb>data table notebook</a>'\n",
              "          + ' to learn more about interactive tables.';\n",
              "        element.innerHTML = '';\n",
              "        dataTable['output_type'] = 'display_data';\n",
              "        await google.colab.output.renderOutput(dataTable, element);\n",
              "        const docLink = document.createElement('div');\n",
              "        docLink.innerHTML = docLinkHtml;\n",
              "        element.appendChild(docLink);\n",
              "      }\n",
              "    </script>\n",
              "  </div>\n",
              "\n",
              "\n",
              "    </div>\n",
              "  </div>\n"
            ]
          },
          "metadata": {},
          "execution_count": 201
        }
      ]
    },
    {
      "cell_type": "code",
      "source": [
        "len(df1.index)\n",
        " #determine the size or length of data structures"
      ],
      "metadata": {
        "id": "WjsEJ05jmu25",
        "colab": {
          "base_uri": "https://localhost:8080/"
        },
        "outputId": "16911e14-738a-4dd0-a81e-bdfe3f521a50"
      },
      "execution_count": 202,
      "outputs": [
        {
          "output_type": "execute_result",
          "data": {
            "text/plain": [
              "9353"
            ]
          },
          "metadata": {},
          "execution_count": 202
        }
      ]
    },
    {
      "cell_type": "markdown",
      "source": [
        "#5. Performing univariate analysis:\n",
        "\n",
        "\n",
        "##•\t`Boxplot for Price`\n",
        "\n",
        "•\tAre there any outliers? Think about the price of usual apps on Play Store.\n",
        "\n",
        "\tBoxplot for Reviews #boxplots are used for showing the distribution of data points across a selected measure. In this case \"Reviews\"\n",
        "•\tAre there any apps with very high number of reviews? Do the values seem right?\n",
        "\n",
        "\tHistogram for Rating #histogram are used to summarize discrete or continuous data that are measured on an interval scale.In this case \"Rating\"\n",
        "•\tHow are the ratings distributed? Is it more toward higher ratings?\n",
        "\n",
        "\tHistogram for Size #histogram are used to summarize discrete or continuous data that are measured on an interval scale.\n",
        "Note down your observations for the plots made above. Which of these seem to have outliers?\n",
        "\n",
        "A histogram groups the data into ranges and then plots the frequency that data occurs in each range. A box plot is used to compare multiple groups of data, and it shows the median, interquartile range, and maximum and minimum values of the data\n"
      ],
      "metadata": {
        "id": "tWIEyp8p4WTa"
      }
    },
    {
      "cell_type": "markdown",
      "source": [
        "#6. Outlier Treatment\n",
        "##  1. Boxplot for Price\n"
      ],
      "metadata": {
        "id": "INb6SwubnR-5"
      }
    },
    {
      "cell_type": "code",
      "source": [
        "sns.boxplot(x=\"Price\",data=df1, palette = 'pastel')\n",
        "sns.set_style(rc = {'axes.facecolor': 'black'})\n"
      ],
      "metadata": {
        "id": "FCqYqP4lnv74",
        "colab": {
          "base_uri": "https://localhost:8080/",
          "height": 449
        },
        "outputId": "dcdc4c83-5746-4697-e43f-909ac621d8c5"
      },
      "execution_count": 203,
      "outputs": [
        {
          "output_type": "display_data",
          "data": {
            "text/plain": [
              "<Figure size 640x480 with 1 Axes>"
            ],
            "image/png": "[encoded data removed]"
          },
          "metadata": {}
        }
      ]
    },
    {
      "cell_type": "markdown",
      "source": [
        "•\tAre there any outliers? Think about the price of usual apps on Play Store"
      ],
      "metadata": {
        "id": "DAHAVsF3ozGd"
      }
    },
    {
      "cell_type": "code",
      "source": [
        "std = np.std(df1.Price)\n",
        "mean = np.mean(df1.Price)\n",
        "outlier_uplimit = mean + 3*std\n",
        "print(outlier_uplimit)"
      ],
      "metadata": {
        "id": "atjivmRzokKD",
        "colab": {
          "base_uri": "https://localhost:8080/"
        },
        "outputId": "feedfe34-7d73-42c1-f95d-40a0952e5cf0"
      },
      "execution_count": 204,
      "outputs": [
        {
          "output_type": "stream",
          "name": "stdout",
          "text": [
            "48.44154573100313\n"
          ]
        }
      ]
    },
    {
      "cell_type": "code",
      "source": [
        "len(df1[(df1[\"Price\"]>outlier_uplimit)])"
      ],
      "metadata": {
        "id": "pacAtvvc0t5L",
        "colab": {
          "base_uri": "https://localhost:8080/"
        },
        "outputId": "461236aa-7a8d-4646-c361-7471d545b3c9"
      },
      "execution_count": 205,
      "outputs": [
        {
          "output_type": "execute_result",
          "data": {
            "text/plain": [
              "17"
            ]
          },
          "metadata": {},
          "execution_count": 205
        }
      ]
    },
    {
      "cell_type": "code",
      "source": [
        "df1[(df1[\"Price\"]>outlier_uplimit)]  #list of apps with high prices"
      ],
      "metadata": {
        "id": "ZqGoWtU4049n",
        "colab": {
          "base_uri": "https://localhost:8080/",
          "height": 582
        },
        "outputId": "aeb3dd14-8274-4daa-cf8b-10dda205fb36"
      },
      "execution_count": 206,
      "outputs": [
        {
          "output_type": "execute_result",
          "data": {
            "text/plain": [
              "                                 App   Category  Rating  Reviews  Size  \\\n",
              "2253       Vargo Anesthesia Mega App    MEDICAL     4.6       92   32M   \n",
              "2365       Vargo Anesthesia Mega App    MEDICAL     4.6       92   32M   \n",
              "4197          most expensive app (H)     FAMILY     4.3        6  1.5M   \n",
              "4362                      💎 I'm rich  LIFESTYLE     3.8      718   26M   \n",
              "4367        I'm Rich - Trump Edition  LIFESTYLE     3.6      275  7.3M   \n",
              "5351                       I am rich  LIFESTYLE     3.8     3547  1.8M   \n",
              "5354                  I am Rich Plus     FAMILY     4.0      856  8.7M   \n",
              "5355                   I am rich VIP  LIFESTYLE     3.8      411  2.6M   \n",
              "5356               I Am Rich Premium    FINANCE     4.1     1867  4.7M   \n",
              "5357             I am extremely Rich  LIFESTYLE     2.9       41  2.9M   \n",
              "5358                      I am Rich!    FINANCE     3.8       93   22M   \n",
              "5359              I am rich(premium)    FINANCE     3.5      472  965k   \n",
              "5362                   I Am Rich Pro     FAMILY     4.4      201  2.7M   \n",
              "5364  I am rich (Most expensive app)    FINANCE     4.1      129  2.7M   \n",
              "5366                       I Am Rich     FAMILY     3.6      217  4.9M   \n",
              "5369                       I am Rich    FINANCE     4.3      180  3.8M   \n",
              "5373              I AM RICH PRO PLUS    FINANCE     4.0       36   41M   \n",
              "\n",
              "      Installs  Type   Price Content Rating         Genres       Last Updated  \\\n",
              "2253      1000  Paid   79.99       Everyone        Medical      June 18, 2018   \n",
              "2365      1000  Paid   79.99       Everyone        Medical      June 18, 2018   \n",
              "4197       100  Paid  399.99       Everyone  Entertainment      July 16, 2018   \n",
              "4362     10000  Paid  399.99       Everyone      Lifestyle     March 11, 2018   \n",
              "4367     10000  Paid  400.00       Everyone      Lifestyle        May 3, 2018   \n",
              "5351    100000  Paid  399.99       Everyone      Lifestyle   January 12, 2018   \n",
              "5354     10000  Paid  399.99       Everyone  Entertainment       May 19, 2018   \n",
              "5355     10000  Paid  299.99       Everyone      Lifestyle      July 21, 2018   \n",
              "5356     50000  Paid  399.99       Everyone        Finance  November 12, 2017   \n",
              "5357      1000  Paid  379.99       Everyone      Lifestyle       July 1, 2018   \n",
              "5358      1000  Paid  399.99       Everyone        Finance  December 11, 2017   \n",
              "5359      5000  Paid  399.99       Everyone        Finance        May 1, 2017   \n",
              "5362      5000  Paid  399.99       Everyone  Entertainment       May 30, 2017   \n",
              "5364      1000  Paid  399.99           Teen        Finance   December 6, 2017   \n",
              "5366     10000  Paid  389.99       Everyone  Entertainment      June 22, 2018   \n",
              "5369      5000  Paid  399.99       Everyone        Finance     March 22, 2018   \n",
              "5373      1000  Paid  399.99       Everyone        Finance      June 25, 2018   \n",
              "\n",
              "     Current Ver   Android Ver Size(Kb)  \n",
              "2253        19.0  4.0.3 and up     None  \n",
              "2365        19.0  4.0.3 and up     None  \n",
              "4197         1.0    7.0 and up     None  \n",
              "4362       1.0.0    4.4 and up     None  \n",
              "4367       1.0.1    4.1 and up     None  \n",
              "5351         2.0  4.0.3 and up     None  \n",
              "5354         3.0    4.4 and up     None  \n",
              "5355       1.1.1    4.3 and up     None  \n",
              "5356         1.6    4.0 and up     None  \n",
              "5357         1.0    4.0 and up     None  \n",
              "5358         1.0    4.1 and up     None  \n",
              "5359         3.4    4.4 and up     None  \n",
              "5362        1.54    1.6 and up     None  \n",
              "5364           2  4.0.3 and up     None  \n",
              "5366         1.5    4.2 and up     None  \n",
              "5369         1.0    4.2 and up     None  \n",
              "5373       1.0.2    4.1 and up     None  "
            ],
            "text/html": [
              "\n",
              "  <div id=\"df-0510a8b9-e6dc-4624-852d-6444d90f523d\" class=\"colab-df-container\">\n",
              "    <div>\n",
              "<style scoped>\n",
              "    .dataframe tbody tr th:only-of-type {\n",
              "        vertical-align: middle;\n",
              "    }\n",
              "\n",
              "    .dataframe tbody tr th {\n",
              "        vertical-align: top;\n",
              "    }\n",
              "\n",
              "    .dataframe thead th {\n",
              "        text-align: right;\n",
              "    }\n",
              "</style>\n",
              "<table border=\"1\" class=\"dataframe\">\n",
              "  <thead>\n",
              "    <tr style=\"text-align: right;\">\n",
              "      <th></th>\n",
              "      <th>App</th>\n",
              "      <th>Category</th>\n",
              "      <th>Rating</th>\n",
              "      <th>Reviews</th>\n",
              "      <th>Size</th>\n",
              "      <th>Installs</th>\n",
              "      <th>Type</th>\n",
              "      <th>Price</th>\n",
              "      <th>Content Rating</th>\n",
              "      <th>Genres</th>\n",
              "      <th>Last Updated</th>\n",
              "      <th>Current Ver</th>\n",
              "      <th>Android Ver</th>\n",
              "      <th>Size(Kb)</th>\n",
              "    </tr>\n",
              "  </thead>\n",
              "  <tbody>\n",
              "    <tr>\n",
              "      <th>2253</th>\n",
              "      <td>Vargo Anesthesia Mega App</td>\n",
              "      <td>MEDICAL</td>\n",
              "      <td>4.6</td>\n",
              "      <td>92</td>\n",
              "      <td>32M</td>\n",
              "      <td>1000</td>\n",
              "      <td>Paid</td>\n",
              "      <td>79.99</td>\n",
              "      <td>Everyone</td>\n",
              "      <td>Medical</td>\n",
              "      <td>June 18, 2018</td>\n",
              "      <td>19.0</td>\n",
              "      <td>4.0.3 and up</td>\n",
              "      <td>None</td>\n",
              "    </tr>\n",
              "    <tr>\n",
              "      <th>2365</th>\n",
              "      <td>Vargo Anesthesia Mega App</td>\n",
              "      <td>MEDICAL</td>\n",
              "      <td>4.6</td>\n",
              "      <td>92</td>\n",
              "      <td>32M</td>\n",
              "      <td>1000</td>\n",
              "      <td>Paid</td>\n",
              "      <td>79.99</td>\n",
              "      <td>Everyone</td>\n",
              "      <td>Medical</td>\n",
              "      <td>June 18, 2018</td>\n",
              "      <td>19.0</td>\n",
              "      <td>4.0.3 and up</td>\n",
              "      <td>None</td>\n",
              "    </tr>\n",
              "    <tr>\n",
              "      <th>4197</th>\n",
              "      <td>most expensive app (H)</td>\n",
              "      <td>FAMILY</td>\n",
              "      <td>4.3</td>\n",
              "      <td>6</td>\n",
              "      <td>1.5M</td>\n",
              "      <td>100</td>\n",
              "      <td>Paid</td>\n",
              "      <td>399.99</td>\n",
              "      <td>Everyone</td>\n",
              "      <td>Entertainment</td>\n",
              "      <td>July 16, 2018</td>\n",
              "      <td>1.0</td>\n",
              "      <td>7.0 and up</td>\n",
              "      <td>None</td>\n",
              "    </tr>\n",
              "    <tr>\n",
              "      <th>4362</th>\n",
              "      <td>💎 I'm rich</td>\n",
              "      <td>LIFESTYLE</td>\n",
              "      <td>3.8</td>\n",
              "      <td>718</td>\n",
              "      <td>26M</td>\n",
              "      <td>10000</td>\n",
              "      <td>Paid</td>\n",
              "      <td>399.99</td>\n",
              "      <td>Everyone</td>\n",
              "      <td>Lifestyle</td>\n",
              "      <td>March 11, 2018</td>\n",
              "      <td>1.0.0</td>\n",
              "      <td>4.4 and up</td>\n",
              "      <td>None</td>\n",
              "    </tr>\n",
              "    <tr>\n",
              "      <th>4367</th>\n",
              "      <td>I'm Rich - Trump Edition</td>\n",
              "      <td>LIFESTYLE</td>\n",
              "      <td>3.6</td>\n",
              "      <td>275</td>\n",
              "      <td>7.3M</td>\n",
              "      <td>10000</td>\n",
              "      <td>Paid</td>\n",
              "      <td>400.00</td>\n",
              "      <td>Everyone</td>\n",
              "      <td>Lifestyle</td>\n",
              "      <td>May 3, 2018</td>\n",
              "      <td>1.0.1</td>\n",
              "      <td>4.1 and up</td>\n",
              "      <td>None</td>\n",
              "    </tr>\n",
              "    <tr>\n",
              "      <th>5351</th>\n",
              "      <td>I am rich</td>\n",
              "      <td>LIFESTYLE</td>\n",
              "      <td>3.8</td>\n",
              "      <td>3547</td>\n",
              "      <td>1.8M</td>\n",
              "      <td>100000</td>\n",
              "      <td>Paid</td>\n",
              "      <td>399.99</td>\n",
              "      <td>Everyone</td>\n",
              "      <td>Lifestyle</td>\n",
              "      <td>January 12, 2018</td>\n",
              "      <td>2.0</td>\n",
              "      <td>4.0.3 and up</td>\n",
              "      <td>None</td>\n",
              "    </tr>\n",
              "    <tr>\n",
              "      <th>5354</th>\n",
              "      <td>I am Rich Plus</td>\n",
              "      <td>FAMILY</td>\n",
              "      <td>4.0</td>\n",
              "      <td>856</td>\n",
              "      <td>8.7M</td>\n",
              "      <td>10000</td>\n",
              "      <td>Paid</td>\n",
              "      <td>399.99</td>\n",
              "      <td>Everyone</td>\n",
              "      <td>Entertainment</td>\n",
              "      <td>May 19, 2018</td>\n",
              "      <td>3.0</td>\n",
              "      <td>4.4 and up</td>\n",
              "      <td>None</td>\n",
              "    </tr>\n",
              "    <tr>\n",
              "      <th>5355</th>\n",
              "      <td>I am rich VIP</td>\n",
              "      <td>LIFESTYLE</td>\n",
              "      <td>3.8</td>\n",
              "      <td>411</td>\n",
              "      <td>2.6M</td>\n",
              "      <td>10000</td>\n",
              "      <td>Paid</td>\n",
              "      <td>299.99</td>\n",
              "      <td>Everyone</td>\n",
              "      <td>Lifestyle</td>\n",
              "      <td>July 21, 2018</td>\n",
              "      <td>1.1.1</td>\n",
              "      <td>4.3 and up</td>\n",
              "      <td>None</td>\n",
              "    </tr>\n",
              "    <tr>\n",
              "      <th>5356</th>\n",
              "      <td>I Am Rich Premium</td>\n",
              "      <td>FINANCE</td>\n",
              "      <td>4.1</td>\n",
              "      <td>1867</td>\n",
              "      <td>4.7M</td>\n",
              "      <td>50000</td>\n",
              "      <td>Paid</td>\n",
              "      <td>399.99</td>\n",
              "      <td>Everyone</td>\n",
              "      <td>Finance</td>\n",
              "      <td>November 12, 2017</td>\n",
              "      <td>1.6</td>\n",
              "      <td>4.0 and up</td>\n",
              "      <td>None</td>\n",
              "    </tr>\n",
              "    <tr>\n",
              "      <th>5357</th>\n",
              "      <td>I am extremely Rich</td>\n",
              "      <td>LIFESTYLE</td>\n",
              "      <td>2.9</td>\n",
              "      <td>41</td>\n",
              "      <td>2.9M</td>\n",
              "      <td>1000</td>\n",
              "      <td>Paid</td>\n",
              "      <td>379.99</td>\n",
              "      <td>Everyone</td>\n",
              "      <td>Lifestyle</td>\n",
              "      <td>July 1, 2018</td>\n",
              "      <td>1.0</td>\n",
              "      <td>4.0 and up</td>\n",
              "      <td>None</td>\n",
              "    </tr>\n",
              "    <tr>\n",
              "      <th>5358</th>\n",
              "      <td>I am Rich!</td>\n",
              "      <td>FINANCE</td>\n",
              "      <td>3.8</td>\n",
              "      <td>93</td>\n",
              "      <td>22M</td>\n",
              "      <td>1000</td>\n",
              "      <td>Paid</td>\n",
              "      <td>399.99</td>\n",
              "      <td>Everyone</td>\n",
              "      <td>Finance</td>\n",
              "      <td>December 11, 2017</td>\n",
              "      <td>1.0</td>\n",
              "      <td>4.1 and up</td>\n",
              "      <td>None</td>\n",
              "    </tr>\n",
              "    <tr>\n",
              "      <th>5359</th>\n",
              "      <td>I am rich(premium)</td>\n",
              "      <td>FINANCE</td>\n",
              "      <td>3.5</td>\n",
              "      <td>472</td>\n",
              "      <td>965k</td>\n",
              "      <td>5000</td>\n",
              "      <td>Paid</td>\n",
              "      <td>399.99</td>\n",
              "      <td>Everyone</td>\n",
              "      <td>Finance</td>\n",
              "      <td>May 1, 2017</td>\n",
              "      <td>3.4</td>\n",
              "      <td>4.4 and up</td>\n",
              "      <td>None</td>\n",
              "    </tr>\n",
              "    <tr>\n",
              "      <th>5362</th>\n",
              "      <td>I Am Rich Pro</td>\n",
              "      <td>FAMILY</td>\n",
              "      <td>4.4</td>\n",
              "      <td>201</td>\n",
              "      <td>2.7M</td>\n",
              "      <td>5000</td>\n",
              "      <td>Paid</td>\n",
              "      <td>399.99</td>\n",
              "      <td>Everyone</td>\n",
              "      <td>Entertainment</td>\n",
              "      <td>May 30, 2017</td>\n",
              "      <td>1.54</td>\n",
              "      <td>1.6 and up</td>\n",
              "      <td>None</td>\n",
              "    </tr>\n",
              "    <tr>\n",
              "      <th>5364</th>\n",
              "      <td>I am rich (Most expensive app)</td>\n",
              "      <td>FINANCE</td>\n",
              "      <td>4.1</td>\n",
              "      <td>129</td>\n",
              "      <td>2.7M</td>\n",
              "      <td>1000</td>\n",
              "      <td>Paid</td>\n",
              "      <td>399.99</td>\n",
              "      <td>Teen</td>\n",
              "      <td>Finance</td>\n",
              "      <td>December 6, 2017</td>\n",
              "      <td>2</td>\n",
              "      <td>4.0.3 and up</td>\n",
              "      <td>None</td>\n",
              "    </tr>\n",
              "    <tr>\n",
              "      <th>5366</th>\n",
              "      <td>I Am Rich</td>\n",
              "      <td>FAMILY</td>\n",
              "      <td>3.6</td>\n",
              "      <td>217</td>\n",
              "      <td>4.9M</td>\n",
              "      <td>10000</td>\n",
              "      <td>Paid</td>\n",
              "      <td>389.99</td>\n",
              "      <td>Everyone</td>\n",
              "      <td>Entertainment</td>\n",
              "      <td>June 22, 2018</td>\n",
              "      <td>1.5</td>\n",
              "      <td>4.2 and up</td>\n",
              "      <td>None</td>\n",
              "    </tr>\n",
              "    <tr>\n",
              "      <th>5369</th>\n",
              "      <td>I am Rich</td>\n",
              "      <td>FINANCE</td>\n",
              "      <td>4.3</td>\n",
              "      <td>180</td>\n",
              "      <td>3.8M</td>\n",
              "      <td>5000</td>\n",
              "      <td>Paid</td>\n",
              "      <td>399.99</td>\n",
              "      <td>Everyone</td>\n",
              "      <td>Finance</td>\n",
              "      <td>March 22, 2018</td>\n",
              "      <td>1.0</td>\n",
              "      <td>4.2 and up</td>\n",
              "      <td>None</td>\n",
              "    </tr>\n",
              "    <tr>\n",
              "      <th>5373</th>\n",
              "      <td>I AM RICH PRO PLUS</td>\n",
              "      <td>FINANCE</td>\n",
              "      <td>4.0</td>\n",
              "      <td>36</td>\n",
              "      <td>41M</td>\n",
              "      <td>1000</td>\n",
              "      <td>Paid</td>\n",
              "      <td>399.99</td>\n",
              "      <td>Everyone</td>\n",
              "      <td>Finance</td>\n",
              "      <td>June 25, 2018</td>\n",
              "      <td>1.0.2</td>\n",
              "      <td>4.1 and up</td>\n",
              "      <td>None</td>\n",
              "    </tr>\n",
              "  </tbody>\n",
              "</table>\n",
              "</div>\n",
              "    <div class=\"colab-df-buttons\">\n",
              "\n",
              "  <div class=\"colab-df-container\">\n",
              "    <button class=\"colab-df-convert\" onclick=\"convertToInteractive('df-0510a8b9-e6dc-4624-852d-6444d90f523d')\"\n",
              "            title=\"Convert this dataframe to an interactive table.\"\n",
              "            style=\"display:none;\">\n",
              "\n",
              "  <svg xmlns=\"http://www.w3.org/2000/svg\" height=\"24px\" viewBox=\"0 -960 960 960\">\n",
              "    <path d=\"M120-120v-720h720v720H120Zm60-500h600v-160H180v160Zm220 220h160v-160H400v160Zm0 220h160v-160H400v160ZM180-400h160v-160H180v160Zm440 0h160v-160H620v160ZM180-180h160v-160H180v160Zm440 0h160v-160H620v160Z\"/>\n",
              "  </svg>\n",
              "    </button>\n",
              "\n",
              "  <style>\n",
              "    .colab-df-container {\n",
              "      display:flex;\n",
              "      gap: 12px;\n",
              "    }\n",
              "\n",
              "    .colab-df-convert {\n",
              "      background-color: #E8F0FE;\n",
              "      border: none;\n",
              "      border-radius: 50%;\n",
              "      cursor: pointer;\n",
              "      display: none;\n",
              "      fill: #1967D2;\n",
              "      height: 32px;\n",
              "      padding: 0 0 0 0;\n",
              "      width: 32px;\n",
              "    }\n",
              "\n",
              "    .colab-df-convert:hover {\n",
              "      background-color: #E2EBFA;\n",
              "      box-shadow: 0px 1px 2px rgba(60, 64, 67, 0.3), 0px 1px 3px 1px rgba(60, 64, 67, 0.15);\n",
              "      fill: #174EA6;\n",
              "    }\n",
              "\n",
              "    .colab-df-buttons div {\n",
              "      margin-bottom: 4px;\n",
              "    }\n",
              "\n",
              "    [theme=dark] .colab-df-convert {\n",
              "      background-color: #3B4455;\n",
              "      fill: #D2E3FC;\n",
              "    }\n",
              "\n",
              "    [theme=dark] .colab-df-convert:hover {\n",
              "      background-color: #434B5C;\n",
              "      box-shadow: 0px 1px 3px 1px rgba(0, 0, 0, 0.15);\n",
              "      filter: drop-shadow(0px 1px 2px rgba(0, 0, 0, 0.3));\n",
              "      fill: #FFFFFF;\n",
              "    }\n",
              "  </style>\n",
              "\n",
              "    <script>\n",
              "      const buttonEl =\n",
              "        document.querySelector('#df-0510a8b9-e6dc-4624-852d-6444d90f523d button.colab-df-convert');\n",
              "      buttonEl.style.display =\n",
              "        google.colab.kernel.accessAllowed ? 'block' : 'none';\n",
              "\n",
              "      async function convertToInteractive(key) {\n",
              "        const element = document.querySelector('#df-0510a8b9-e6dc-4624-852d-6444d90f523d');\n",
              "        const dataTable =\n",
              "          await google.colab.kernel.invokeFunction('convertToInteractive',\n",
              "                                                    [key], {});\n",
              "        if (!dataTable) return;\n",
              "\n",
              "        const docLinkHtml = 'Like what you see? Visit the ' +\n",
              "          '<a target=\"_blank\" href=https://colab.research.google.com/notebooks/data_table.ipynb>data table notebook</a>'\n",
              "          + ' to learn more about interactive tables.';\n",
              "        element.innerHTML = '';\n",
              "        dataTable['output_type'] = 'display_data';\n",
              "        await google.colab.output.renderOutput(dataTable, element);\n",
              "        const docLink = document.createElement('div');\n",
              "        docLink.innerHTML = docLinkHtml;\n",
              "        element.appendChild(docLink);\n",
              "      }\n",
              "    </script>\n",
              "  </div>\n",
              "\n",
              "\n",
              "<div id=\"df-5bdc4e96-5538-4423-a8ca-b48e45b42a17\">\n",
              "  <button class=\"colab-df-quickchart\" onclick=\"quickchart('df-5bdc4e96-5538-4423-a8ca-b48e45b42a17')\"\n",
              "            title=\"Suggest charts\"\n",
              "            style=\"display:none;\">\n",
              "\n",
              "<svg xmlns=\"http://www.w3.org/2000/svg\" height=\"24px\"viewBox=\"0 0 24 24\"\n",
              "     width=\"24px\">\n",
              "    <g>\n",
              "        <path d=\"M19 3H5c-1.1 0-2 .9-2 2v14c0 1.1.9 2 2 2h14c1.1 0 2-.9 2-2V5c0-1.1-.9-2-2-2zM9 17H7v-7h2v7zm4 0h-2V7h2v10zm4 0h-2v-4h2v4z\"/>\n",
              "    </g>\n",
              "</svg>\n",
              "  </button>\n",
              "\n",
              "<style>\n",
              "  .colab-df-quickchart {\n",
              "      --bg-color: #E8F0FE;\n",
              "      --fill-color: #1967D2;\n",
              "      --hover-bg-color: #E2EBFA;\n",
              "      --hover-fill-color: #174EA6;\n",
              "      --disabled-fill-color: #AAA;\n",
              "      --disabled-bg-color: #DDD;\n",
              "  }\n",
              "\n",
              "  [theme=dark] .colab-df-quickchart {\n",
              "      --bg-color: #3B4455;\n",
              "      --fill-color: #D2E3FC;\n",
              "      --hover-bg-color: #434B5C;\n",
              "      --hover-fill-color: #FFFFFF;\n",
              "      --disabled-bg-color: #3B4455;\n",
              "      --disabled-fill-color: #666;\n",
              "  }\n",
              "\n",
              "  .colab-df-quickchart {\n",
              "    background-color: var(--bg-color);\n",
              "    border: none;\n",
              "    border-radius: 50%;\n",
              "    cursor: pointer;\n",
              "    display: none;\n",
              "    fill: var(--fill-color);\n",
              "    height: 32px;\n",
              "    padding: 0;\n",
              "    width: 32px;\n",
              "  }\n",
              "\n",
              "  .colab-df-quickchart:hover {\n",
              "    background-color: var(--hover-bg-color);\n",
              "    box-shadow: 0 1px 2px rgba(60, 64, 67, 0.3), 0 1px 3px 1px rgba(60, 64, 67, 0.15);\n",
              "    fill: var(--button-hover-fill-color);\n",
              "  }\n",
              "\n",
              "  .colab-df-quickchart-complete:disabled,\n",
              "  .colab-df-quickchart-complete:disabled:hover {\n",
              "    background-color: var(--disabled-bg-color);\n",
              "    fill: var(--disabled-fill-color);\n",
              "    box-shadow: none;\n",
              "  }\n",
              "\n",
              "  .colab-df-spinner {\n",
              "    border: 2px solid var(--fill-color);\n",
              "    border-color: transparent;\n",
              "    border-bottom-color: var(--fill-color);\n",
              "    animation:\n",
              "      spin 1s steps(1) infinite;\n",
              "  }\n",
              "\n",
              "  @keyframes spin {\n",
              "    0% {\n",
              "      border-color: transparent;\n",
              "      border-bottom-color: var(--fill-color);\n",
              "      border-left-color: var(--fill-color);\n",
              "    }\n",
              "    20% {\n",
              "      border-color: transparent;\n",
              "      border-left-color: var(--fill-color);\n",
              "      border-top-color: var(--fill-color);\n",
              "    }\n",
              "    30% {\n",
              "      border-color: transparent;\n",
              "      border-left-color: var(--fill-color);\n",
              "      border-top-color: var(--fill-color);\n",
              "      border-right-color: var(--fill-color);\n",
              "    }\n",
              "    40% {\n",
              "      border-color: transparent;\n",
              "      border-right-color: var(--fill-color);\n",
              "      border-top-color: var(--fill-color);\n",
              "    }\n",
              "    60% {\n",
              "      border-color: transparent;\n",
              "      border-right-color: var(--fill-color);\n",
              "    }\n",
              "    80% {\n",
              "      border-color: transparent;\n",
              "      border-right-color: var(--fill-color);\n",
              "      border-bottom-color: var(--fill-color);\n",
              "    }\n",
              "    90% {\n",
              "      border-color: transparent;\n",
              "      border-bottom-color: var(--fill-color);\n",
              "    }\n",
              "  }\n",
              "</style>\n",
              "\n",
              "  <script>\n",
              "    async function quickchart(key) {\n",
              "      const quickchartButtonEl =\n",
              "        document.querySelector('#' + key + ' button');\n",
              "      quickchartButtonEl.disabled = true;  // To prevent multiple clicks.\n",
              "      quickchartButtonEl.classList.add('colab-df-spinner');\n",
              "      try {\n",
              "        const charts = await google.colab.kernel.invokeFunction(\n",
              "            'suggestCharts', [key], {});\n",
              "      } catch (error) {\n",
              "        console.error('Error during call to suggestCharts:', error);\n",
              "      }\n",
              "      quickchartButtonEl.classList.remove('colab-df-spinner');\n",
              "      quickchartButtonEl.classList.add('colab-df-quickchart-complete');\n",
              "    }\n",
              "    (() => {\n",
              "      let quickchartButtonEl =\n",
              "        document.querySelector('#df-5bdc4e96-5538-4423-a8ca-b48e45b42a17 button');\n",
              "      quickchartButtonEl.style.display =\n",
              "        google.colab.kernel.accessAllowed ? 'block' : 'none';\n",
              "    })();\n",
              "  </script>\n",
              "</div>\n",
              "\n",
              "    </div>\n",
              "  </div>\n"
            ]
          },
          "metadata": {},
          "execution_count": 206
        }
      ]
    },
    {
      "cell_type": "markdown",
      "source": [
        "# `Boxplot for Reviews`\n",
        "\n",
        "  2. Reviews: Very few apps have very high number of reviews. These are all star apps that don’t help with the analysis and, in fact, will skew it. Drop records having more than 2 million reviews.\n",
        "\n",
        "\n",
        "\n"
      ],
      "metadata": {
        "id": "dYTlIPk82XaL"
      }
    },
    {
      "cell_type": "code",
      "source": [
        "std2 = np.std(df1.Reviews)\n",
        "mean2 = np.mean(df1.Reviews)\n",
        "outlier_uplimit_2 = mean2 + 3*std2\n",
        "print(outlier_uplimit_2)"
      ],
      "metadata": {
        "id": "mgodAqly1K0x",
        "colab": {
          "base_uri": "https://localhost:8080/"
        },
        "outputId": "42f75f98-4de0-453f-db0c-9266b8e005dd"
      },
      "execution_count": 207,
      "outputs": [
        {
          "output_type": "stream",
          "name": "stdout",
          "text": [
            "9952762.231132139\n"
          ]
        }
      ]
    },
    {
      "cell_type": "code",
      "source": [
        "len(df1[(df1[\"Reviews\"]>outlier_uplimit_2)])"
      ],
      "metadata": {
        "id": "QkdEnFV32-iT",
        "colab": {
          "base_uri": "https://localhost:8080/"
        },
        "outputId": "b1d96906-519f-4a7c-9ea1-d0abda720d30"
      },
      "execution_count": 208,
      "outputs": [
        {
          "output_type": "execute_result",
          "data": {
            "text/plain": [
              "92"
            ]
          },
          "metadata": {},
          "execution_count": 208
        }
      ]
    },
    {
      "cell_type": "code",
      "source": [
        "df1[(df1[\"Reviews\"]>outlier_uplimit_2)].tail(10)"
      ],
      "metadata": {
        "id": "h8vPNiHn3Krd",
        "colab": {
          "base_uri": "https://localhost:8080/",
          "height": 363
        },
        "outputId": "61b56736-a9e9-49e7-b8ca-b8cb48e2a31c"
      },
      "execution_count": 209,
      "outputs": [
        {
          "output_type": "execute_result",
          "data": {
            "text/plain": [
              "                                                    App       Category  \\\n",
              "4122                        LINE: Free Calls & Messages  COMMUNICATION   \n",
              "4234                      Skype - free IM & video calls  COMMUNICATION   \n",
              "4568    360 Security - Free Antivirus, Booster, Cleaner          TOOLS   \n",
              "4676                                    Viber Messenger  COMMUNICATION   \n",
              "5395                                      Google Photos    PHOTOGRAPHY   \n",
              "6449                        BBM - Free Calls & Messages  COMMUNICATION   \n",
              "7536  Security Master - Antivirus, VPN, AppLock, Boo...          TOOLS   \n",
              "7937                                     Shadow Fight 2           GAME   \n",
              "8894  Cache Cleaner-DU Speed Booster (booster & clea...          TOOLS   \n",
              "8896  DU Battery Saver - Battery Charger & Battery Life          TOOLS   \n",
              "\n",
              "      Rating   Reviews                Size    Installs  Type  Price  \\\n",
              "4122     4.2  10790092  Varies with device   500000000  Free    0.0   \n",
              "4234     4.1  10484169  Varies with device  1000000000  Free    0.0   \n",
              "4568     4.6  16771865  Varies with device   100000000  Free    0.0   \n",
              "4676     4.3  11335481  Varies with device   500000000  Free    0.0   \n",
              "5395     4.5  10847682  Varies with device  1000000000  Free    0.0   \n",
              "6449     4.3  12843436  Varies with device   100000000  Free    0.0   \n",
              "7536     4.7  24900999  Varies with device   500000000  Free    0.0   \n",
              "7937     4.6  10981850                 88M   100000000  Free    0.0   \n",
              "8894     4.5  12759815                 15M   100000000  Free    0.0   \n",
              "8896     4.5  13479633                 14M   100000000  Free    0.0   \n",
              "\n",
              "     Content Rating         Genres    Last Updated         Current Ver  \\\n",
              "4122       Everyone  Communication   July 26, 2018  Varies with device   \n",
              "4234       Everyone  Communication  August 3, 2018  Varies with device   \n",
              "4568       Everyone          Tools  August 4, 2018  Varies with device   \n",
              "4676       Everyone  Communication   July 18, 2018  Varies with device   \n",
              "5395       Everyone    Photography  August 1, 2018  Varies with device   \n",
              "6449       Everyone  Communication  August 2, 2018  Varies with device   \n",
              "7536       Everyone          Tools  August 4, 2018               4.6.6   \n",
              "7937   Everyone 10+         Action    July 2, 2018              1.9.38   \n",
              "8894       Everyone          Tools   July 25, 2018               3.1.2   \n",
              "8896       Everyone          Tools    June 5, 2018             4.8.7.8   \n",
              "\n",
              "             Android Ver Size(Kb)  \n",
              "4122  Varies with device     None  \n",
              "4234  Varies with device     None  \n",
              "4568  Varies with device     None  \n",
              "4676  Varies with device     None  \n",
              "5395  Varies with device     None  \n",
              "6449        4.0.3 and up     None  \n",
              "7536  Varies with device     None  \n",
              "7937          3.0 and up     None  \n",
              "8894          4.0 and up     None  \n",
              "8896          4.0 and up     None  "
            ],
            "text/html": [
              "\n",
              "  <div id=\"df-e495847b-df5a-48f9-baec-5c2e088c0512\" class=\"colab-df-container\">\n",
              "    <div>\n",
              "<style scoped>\n",
              "    .dataframe tbody tr th:only-of-type {\n",
              "        vertical-align: middle;\n",
              "    }\n",
              "\n",
              "    .dataframe tbody tr th {\n",
              "        vertical-align: top;\n",
              "    }\n",
              "\n",
              "    .dataframe thead th {\n",
              "        text-align: right;\n",
              "    }\n",
              "</style>\n",
              "<table border=\"1\" class=\"dataframe\">\n",
              "  <thead>\n",
              "    <tr style=\"text-align: right;\">\n",
              "      <th></th>\n",
              "      <th>App</th>\n",
              "      <th>Category</th>\n",
              "      <th>Rating</th>\n",
              "      <th>Reviews</th>\n",
              "      <th>Size</th>\n",
              "      <th>Installs</th>\n",
              "      <th>Type</th>\n",
              "      <th>Price</th>\n",
              "      <th>Content Rating</th>\n",
              "      <th>Genres</th>\n",
              "      <th>Last Updated</th>\n",
              "      <th>Current Ver</th>\n",
              "      <th>Android Ver</th>\n",
              "      <th>Size(Kb)</th>\n",
              "    </tr>\n",
              "  </thead>\n",
              "  <tbody>\n",
              "    <tr>\n",
              "      <th>4122</th>\n",
              "      <td>LINE: Free Calls &amp; Messages</td>\n",
              "      <td>COMMUNICATION</td>\n",
              "      <td>4.2</td>\n",
              "      <td>10790092</td>\n",
              "      <td>Varies with device</td>\n",
              "      <td>500000000</td>\n",
              "      <td>Free</td>\n",
              "      <td>0.0</td>\n",
              "      <td>Everyone</td>\n",
              "      <td>Communication</td>\n",
              "      <td>July 26, 2018</td>\n",
              "      <td>Varies with device</td>\n",
              "      <td>Varies with device</td>\n",
              "      <td>None</td>\n",
              "    </tr>\n",
              "    <tr>\n",
              "      <th>4234</th>\n",
              "      <td>Skype - free IM &amp; video calls</td>\n",
              "      <td>COMMUNICATION</td>\n",
              "      <td>4.1</td>\n",
              "      <td>10484169</td>\n",
              "      <td>Varies with device</td>\n",
              "      <td>1000000000</td>\n",
              "      <td>Free</td>\n",
              "      <td>0.0</td>\n",
              "      <td>Everyone</td>\n",
              "      <td>Communication</td>\n",
              "      <td>August 3, 2018</td>\n",
              "      <td>Varies with device</td>\n",
              "      <td>Varies with device</td>\n",
              "      <td>None</td>\n",
              "    </tr>\n",
              "    <tr>\n",
              "      <th>4568</th>\n",
              "      <td>360 Security - Free Antivirus, Booster, Cleaner</td>\n",
              "      <td>TOOLS</td>\n",
              "      <td>4.6</td>\n",
              "      <td>16771865</td>\n",
              "      <td>Varies with device</td>\n",
              "      <td>100000000</td>\n",
              "      <td>Free</td>\n",
              "      <td>0.0</td>\n",
              "      <td>Everyone</td>\n",
              "      <td>Tools</td>\n",
              "      <td>August 4, 2018</td>\n",
              "      <td>Varies with device</td>\n",
              "      <td>Varies with device</td>\n",
              "      <td>None</td>\n",
              "    </tr>\n",
              "    <tr>\n",
              "      <th>4676</th>\n",
              "      <td>Viber Messenger</td>\n",
              "      <td>COMMUNICATION</td>\n",
              "      <td>4.3</td>\n",
              "      <td>11335481</td>\n",
              "      <td>Varies with device</td>\n",
              "      <td>500000000</td>\n",
              "      <td>Free</td>\n",
              "      <td>0.0</td>\n",
              "      <td>Everyone</td>\n",
              "      <td>Communication</td>\n",
              "      <td>July 18, 2018</td>\n",
              "      <td>Varies with device</td>\n",
              "      <td>Varies with device</td>\n",
              "      <td>None</td>\n",
              "    </tr>\n",
              "    <tr>\n",
              "      <th>5395</th>\n",
              "      <td>Google Photos</td>\n",
              "      <td>PHOTOGRAPHY</td>\n",
              "      <td>4.5</td>\n",
              "      <td>10847682</td>\n",
              "      <td>Varies with device</td>\n",
              "      <td>1000000000</td>\n",
              "      <td>Free</td>\n",
              "      <td>0.0</td>\n",
              "      <td>Everyone</td>\n",
              "      <td>Photography</td>\n",
              "      <td>August 1, 2018</td>\n",
              "      <td>Varies with device</td>\n",
              "      <td>Varies with device</td>\n",
              "      <td>None</td>\n",
              "    </tr>\n",
              "    <tr>\n",
              "      <th>6449</th>\n",
              "      <td>BBM - Free Calls &amp; Messages</td>\n",
              "      <td>COMMUNICATION</td>\n",
              "      <td>4.3</td>\n",
              "      <td>12843436</td>\n",
              "      <td>Varies with device</td>\n",
              "      <td>100000000</td>\n",
              "      <td>Free</td>\n",
              "      <td>0.0</td>\n",
              "      <td>Everyone</td>\n",
              "      <td>Communication</td>\n",
              "      <td>August 2, 2018</td>\n",
              "      <td>Varies with device</td>\n",
              "      <td>4.0.3 and up</td>\n",
              "      <td>None</td>\n",
              "    </tr>\n",
              "    <tr>\n",
              "      <th>7536</th>\n",
              "      <td>Security Master - Antivirus, VPN, AppLock, Boo...</td>\n",
              "      <td>TOOLS</td>\n",
              "      <td>4.7</td>\n",
              "      <td>24900999</td>\n",
              "      <td>Varies with device</td>\n",
              "      <td>500000000</td>\n",
              "      <td>Free</td>\n",
              "      <td>0.0</td>\n",
              "      <td>Everyone</td>\n",
              "      <td>Tools</td>\n",
              "      <td>August 4, 2018</td>\n",
              "      <td>4.6.6</td>\n",
              "      <td>Varies with device</td>\n",
              "      <td>None</td>\n",
              "    </tr>\n",
              "    <tr>\n",
              "      <th>7937</th>\n",
              "      <td>Shadow Fight 2</td>\n",
              "      <td>GAME</td>\n",
              "      <td>4.6</td>\n",
              "      <td>10981850</td>\n",
              "      <td>88M</td>\n",
              "      <td>100000000</td>\n",
              "      <td>Free</td>\n",
              "      <td>0.0</td>\n",
              "      <td>Everyone 10+</td>\n",
              "      <td>Action</td>\n",
              "      <td>July 2, 2018</td>\n",
              "      <td>1.9.38</td>\n",
              "      <td>3.0 and up</td>\n",
              "      <td>None</td>\n",
              "    </tr>\n",
              "    <tr>\n",
              "      <th>8894</th>\n",
              "      <td>Cache Cleaner-DU Speed Booster (booster &amp; clea...</td>\n",
              "      <td>TOOLS</td>\n",
              "      <td>4.5</td>\n",
              "      <td>12759815</td>\n",
              "      <td>15M</td>\n",
              "      <td>100000000</td>\n",
              "      <td>Free</td>\n",
              "      <td>0.0</td>\n",
              "      <td>Everyone</td>\n",
              "      <td>Tools</td>\n",
              "      <td>July 25, 2018</td>\n",
              "      <td>3.1.2</td>\n",
              "      <td>4.0 and up</td>\n",
              "      <td>None</td>\n",
              "    </tr>\n",
              "    <tr>\n",
              "      <th>8896</th>\n",
              "      <td>DU Battery Saver - Battery Charger &amp; Battery Life</td>\n",
              "      <td>TOOLS</td>\n",
              "      <td>4.5</td>\n",
              "      <td>13479633</td>\n",
              "      <td>14M</td>\n",
              "      <td>100000000</td>\n",
              "      <td>Free</td>\n",
              "      <td>0.0</td>\n",
              "      <td>Everyone</td>\n",
              "      <td>Tools</td>\n",
              "      <td>June 5, 2018</td>\n",
              "      <td>4.8.7.8</td>\n",
              "      <td>4.0 and up</td>\n",
              "      <td>None</td>\n",
              "    </tr>\n",
              "  </tbody>\n",
              "</table>\n",
              "</div>\n",
              "    <div class=\"colab-df-buttons\">\n",
              "\n",
              "  <div class=\"colab-df-container\">\n",
              "    <button class=\"colab-df-convert\" onclick=\"convertToInteractive('df-e495847b-df5a-48f9-baec-5c2e088c0512')\"\n",
              "            title=\"Convert this dataframe to an interactive table.\"\n",
              "            style=\"display:none;\">\n",
              "\n",
              "  <svg xmlns=\"http://www.w3.org/2000/svg\" height=\"24px\" viewBox=\"0 -960 960 960\">\n",
              "    <path d=\"M120-120v-720h720v720H120Zm60-500h600v-160H180v160Zm220 220h160v-160H400v160Zm0 220h160v-160H400v160ZM180-400h160v-160H180v160Zm440 0h160v-160H620v160ZM180-180h160v-160H180v160Zm440 0h160v-160H620v160Z\"/>\n",
              "  </svg>\n",
              "    </button>\n",
              "\n",
              "  <style>\n",
              "    .colab-df-container {\n",
              "      display:flex;\n",
              "      gap: 12px;\n",
              "    }\n",
              "\n",
              "    .colab-df-convert {\n",
              "      background-color: #E8F0FE;\n",
              "      border: none;\n",
              "      border-radius: 50%;\n",
              "      cursor: pointer;\n",
              "      display: none;\n",
              "      fill: #1967D2;\n",
              "      height: 32px;\n",
              "      padding: 0 0 0 0;\n",
              "      width: 32px;\n",
              "    }\n",
              "\n",
              "    .colab-df-convert:hover {\n",
              "      background-color: #E2EBFA;\n",
              "      box-shadow: 0px 1px 2px rgba(60, 64, 67, 0.3), 0px 1px 3px 1px rgba(60, 64, 67, 0.15);\n",
              "      fill: #174EA6;\n",
              "    }\n",
              "\n",
              "    .colab-df-buttons div {\n",
              "      margin-bottom: 4px;\n",
              "    }\n",
              "\n",
              "    [theme=dark] .colab-df-convert {\n",
              "      background-color: #3B4455;\n",
              "      fill: #D2E3FC;\n",
              "    }\n",
              "\n",
              "    [theme=dark] .colab-df-convert:hover {\n",
              "      background-color: #434B5C;\n",
              "      box-shadow: 0px 1px 3px 1px rgba(0, 0, 0, 0.15);\n",
              "      filter: drop-shadow(0px 1px 2px rgba(0, 0, 0, 0.3));\n",
              "      fill: #FFFFFF;\n",
              "    }\n",
              "  </style>\n",
              "\n",
              "    <script>\n",
              "      const buttonEl =\n",
              "        document.querySelector('#df-e495847b-df5a-48f9-baec-5c2e088c0512 button.colab-df-convert');\n",
              "      buttonEl.style.display =\n",
              "        google.colab.kernel.accessAllowed ? 'block' : 'none';\n",
              "\n",
              "      async function convertToInteractive(key) {\n",
              "        const element = document.querySelector('#df-e495847b-df5a-48f9-baec-5c2e088c0512');\n",
              "        const dataTable =\n",
              "          await google.colab.kernel.invokeFunction('convertToInteractive',\n",
              "                                                    [key], {});\n",
              "        if (!dataTable) return;\n",
              "\n",
              "        const docLinkHtml = 'Like what you see? Visit the ' +\n",
              "          '<a target=\"_blank\" href=https://colab.research.google.com/notebooks/data_table.ipynb>data table notebook</a>'\n",
              "          + ' to learn more about interactive tables.';\n",
              "        element.innerHTML = '';\n",
              "        dataTable['output_type'] = 'display_data';\n",
              "        await google.colab.output.renderOutput(dataTable, element);\n",
              "        const docLink = document.createElement('div');\n",
              "        docLink.innerHTML = docLinkHtml;\n",
              "        element.appendChild(docLink);\n",
              "      }\n",
              "    </script>\n",
              "  </div>\n",
              "\n",
              "\n",
              "<div id=\"df-d9012a11-9dcd-44eb-92d6-8f19d7774591\">\n",
              "  <button class=\"colab-df-quickchart\" onclick=\"quickchart('df-d9012a11-9dcd-44eb-92d6-8f19d7774591')\"\n",
              "            title=\"Suggest charts\"\n",
              "            style=\"display:none;\">\n",
              "\n",
              "<svg xmlns=\"http://www.w3.org/2000/svg\" height=\"24px\"viewBox=\"0 0 24 24\"\n",
              "     width=\"24px\">\n",
              "    <g>\n",
              "        <path d=\"M19 3H5c-1.1 0-2 .9-2 2v14c0 1.1.9 2 2 2h14c1.1 0 2-.9 2-2V5c0-1.1-.9-2-2-2zM9 17H7v-7h2v7zm4 0h-2V7h2v10zm4 0h-2v-4h2v4z\"/>\n",
              "    </g>\n",
              "</svg>\n",
              "  </button>\n",
              "\n",
              "<style>\n",
              "  .colab-df-quickchart {\n",
              "      --bg-color: #E8F0FE;\n",
              "      --fill-color: #1967D2;\n",
              "      --hover-bg-color: #E2EBFA;\n",
              "      --hover-fill-color: #174EA6;\n",
              "      --disabled-fill-color: #AAA;\n",
              "      --disabled-bg-color: #DDD;\n",
              "  }\n",
              "\n",
              "  [theme=dark] .colab-df-quickchart {\n",
              "      --bg-color: #3B4455;\n",
              "      --fill-color: #D2E3FC;\n",
              "      --hover-bg-color: #434B5C;\n",
              "      --hover-fill-color: #FFFFFF;\n",
              "      --disabled-bg-color: #3B4455;\n",
              "      --disabled-fill-color: #666;\n",
              "  }\n",
              "\n",
              "  .colab-df-quickchart {\n",
              "    background-color: var(--bg-color);\n",
              "    border: none;\n",
              "    border-radius: 50%;\n",
              "    cursor: pointer;\n",
              "    display: none;\n",
              "    fill: var(--fill-color);\n",
              "    height: 32px;\n",
              "    padding: 0;\n",
              "    width: 32px;\n",
              "  }\n",
              "\n",
              "  .colab-df-quickchart:hover {\n",
              "    background-color: var(--hover-bg-color);\n",
              "    box-shadow: 0 1px 2px rgba(60, 64, 67, 0.3), 0 1px 3px 1px rgba(60, 64, 67, 0.15);\n",
              "    fill: var(--button-hover-fill-color);\n",
              "  }\n",
              "\n",
              "  .colab-df-quickchart-complete:disabled,\n",
              "  .colab-df-quickchart-complete:disabled:hover {\n",
              "    background-color: var(--disabled-bg-color);\n",
              "    fill: var(--disabled-fill-color);\n",
              "    box-shadow: none;\n",
              "  }\n",
              "\n",
              "  .colab-df-spinner {\n",
              "    border: 2px solid var(--fill-color);\n",
              "    border-color: transparent;\n",
              "    border-bottom-color: var(--fill-color);\n",
              "    animation:\n",
              "      spin 1s steps(1) infinite;\n",
              "  }\n",
              "\n",
              "  @keyframes spin {\n",
              "    0% {\n",
              "      border-color: transparent;\n",
              "      border-bottom-color: var(--fill-color);\n",
              "      border-left-color: var(--fill-color);\n",
              "    }\n",
              "    20% {\n",
              "      border-color: transparent;\n",
              "      border-left-color: var(--fill-color);\n",
              "      border-top-color: var(--fill-color);\n",
              "    }\n",
              "    30% {\n",
              "      border-color: transparent;\n",
              "      border-left-color: var(--fill-color);\n",
              "      border-top-color: var(--fill-color);\n",
              "      border-right-color: var(--fill-color);\n",
              "    }\n",
              "    40% {\n",
              "      border-color: transparent;\n",
              "      border-right-color: var(--fill-color);\n",
              "      border-top-color: var(--fill-color);\n",
              "    }\n",
              "    60% {\n",
              "      border-color: transparent;\n",
              "      border-right-color: var(--fill-color);\n",
              "    }\n",
              "    80% {\n",
              "      border-color: transparent;\n",
              "      border-right-color: var(--fill-color);\n",
              "      border-bottom-color: var(--fill-color);\n",
              "    }\n",
              "    90% {\n",
              "      border-color: transparent;\n",
              "      border-bottom-color: var(--fill-color);\n",
              "    }\n",
              "  }\n",
              "</style>\n",
              "\n",
              "  <script>\n",
              "    async function quickchart(key) {\n",
              "      const quickchartButtonEl =\n",
              "        document.querySelector('#' + key + ' button');\n",
              "      quickchartButtonEl.disabled = true;  // To prevent multiple clicks.\n",
              "      quickchartButtonEl.classList.add('colab-df-spinner');\n",
              "      try {\n",
              "        const charts = await google.colab.kernel.invokeFunction(\n",
              "            'suggestCharts', [key], {});\n",
              "      } catch (error) {\n",
              "        console.error('Error during call to suggestCharts:', error);\n",
              "      }\n",
              "      quickchartButtonEl.classList.remove('colab-df-spinner');\n",
              "      quickchartButtonEl.classList.add('colab-df-quickchart-complete');\n",
              "    }\n",
              "    (() => {\n",
              "      let quickchartButtonEl =\n",
              "        document.querySelector('#df-d9012a11-9dcd-44eb-92d6-8f19d7774591 button');\n",
              "      quickchartButtonEl.style.display =\n",
              "        google.colab.kernel.accessAllowed ? 'block' : 'none';\n",
              "    })();\n",
              "  </script>\n",
              "</div>\n",
              "\n",
              "    </div>\n",
              "  </div>\n"
            ]
          },
          "metadata": {},
          "execution_count": 209
        }
      ]
    },
    {
      "cell_type": "markdown",
      "source": [
        "3.\tInstalls:  There seems to be some outliers in this field\n",
        "too. Apps having very high number of installs should be dropped from the analysis.\n",
        "  1.\tFind out the different percentiles – 10, 25, 50, 70, 90, 95, 99\n",
        "  2.\tDecide a threshold as cutoff for outlier and drop records having values more than that\n"
      ],
      "metadata": {
        "id": "gLzoPXIV54j6"
      }
    },
    {
      "cell_type": "code",
      "source": [
        "sns.boxplot(x=\"Installs\",data=df1)"
      ],
      "metadata": {
        "id": "yWfG2cSs4A6E",
        "colab": {
          "base_uri": "https://localhost:8080/",
          "height": 466
        },
        "outputId": "d4eeb5ff-d2d2-4dfe-e2c7-76e71e633493"
      },
      "execution_count": 210,
      "outputs": [
        {
          "output_type": "execute_result",
          "data": {
            "text/plain": [
              "<Axes: xlabel='Installs'>"
            ]
          },
          "metadata": {},
          "execution_count": 210
        },
        {
          "output_type": "display_data",
          "data": {
            "text/plain": [
              "<Figure size 640x480 with 1 Axes>"
            ],
            "image/png": "[encoded data removed]"
          },
          "metadata": {}
        }
      ]
    },
    {
      "cell_type": "code",
      "source": [
        "\n",
        "print(np.percentile(df1[\"Installs\"],10))\n",
        "print(np.percentile(df1[\"Installs\"],25))\n",
        "print(np.percentile(df1[\"Installs\"],50))\n",
        "print(np.percentile(df1[\"Installs\"],70))\n",
        "print(np.percentile(df1[\"Installs\"],90))\n",
        "print(np.percentile(df1[\"Installs\"],99))"
      ],
      "metadata": {
        "id": "Nw_c5aUs6XDE",
        "colab": {
          "base_uri": "https://localhost:8080/"
        },
        "outputId": "7562b151-af8a-4b53-8697-4d5a5708538b"
      },
      "execution_count": 211,
      "outputs": [
        {
          "output_type": "stream",
          "name": "stdout",
          "text": [
            "1000.0\n",
            "10000.0\n",
            "500000.0\n",
            "5000000.0\n",
            "10000000.0\n",
            "500000000.0\n"
          ]
        }
      ]
    },
    {
      "cell_type": "code",
      "source": [
        "sns.distplot(df1[\"Installs\"])"
      ],
      "metadata": {
        "id": "Tutz1akY6gIs",
        "colab": {
          "base_uri": "https://localhost:8080/",
          "height": 673
        },
        "outputId": "ddd8959d-78f3-43d0-a4d2-54e58d2d36ef"
      },
      "execution_count": 212,
      "outputs": [
        {
          "output_type": "stream",
          "name": "stderr",
          "text": [
            "<ipython-input-212-347eaeccab45>:1: UserWarning: \n",
            "\n",
            "`distplot` is a deprecated function and will be removed in seaborn v0.14.0.\n",
            "\n",
            "Please adapt your code to use either `displot` (a figure-level function with\n",
            "similar flexibility) or `histplot` (an axes-level function for histograms).\n",
            "\n",
            "For a guide to updating your code to use the new functions, please see\n",
            "https://gist.github.com/mwaskom/de44147ed2974457ad6372750bbe5751\n",
            "\n",
            "  sns.distplot(df1[\"Installs\"])\n"
          ]
        },
        {
          "output_type": "execute_result",
          "data": {
            "text/plain": [
              "<Axes: xlabel='Installs', ylabel='Density'>"
            ]
          },
          "metadata": {},
          "execution_count": 212
        },
        {
          "output_type": "display_data",
          "data": {
            "text/plain": [
              "<Figure size 640x480 with 1 Axes>"
            ],
            "image/png": "[encoded data removed]"
          },
          "metadata": {}
        }
      ]
    },
    {
      "cell_type": "code",
      "source": [
        "len(df1[df1.Installs>=100000000.0])"
      ],
      "metadata": {
        "id": "eTHa_zkhEqmm",
        "colab": {
          "base_uri": "https://localhost:8080/"
        },
        "outputId": "80219975-1fb4-4cda-9029-a2a2d3a19d5c"
      },
      "execution_count": 213,
      "outputs": [
        {
          "output_type": "execute_result",
          "data": {
            "text/plain": [
              "539"
            ]
          },
          "metadata": {},
          "execution_count": 213
        }
      ]
    },
    {
      "cell_type": "code",
      "source": [
        "df1.drop(df1.index[df1.Installs>=100000000.0],inplace=True)\n",
        "len(df1.index)"
      ],
      "metadata": {
        "id": "1hQlj1cnEvNk",
        "colab": {
          "base_uri": "https://localhost:8080/"
        },
        "outputId": "d924bdc6-360d-42b2-a1d0-f57e1f76111b"
      },
      "execution_count": 214,
      "outputs": [
        {
          "output_type": "execute_result",
          "data": {
            "text/plain": [
              "8814"
            ]
          },
          "metadata": {},
          "execution_count": 214
        }
      ]
    },
    {
      "cell_type": "markdown",
      "source": [
        "#7. Bivariate analysis: Let’s look at how the available predictors relate to the variable of interest, i.e., our target variable rating. Make scatter plots (for numeric features) and box plots (for character features) to assess the relations between rating and the other features."
      ],
      "metadata": {
        "id": "hkAOpcXMFYat"
      }
    },
    {
      "cell_type": "code",
      "source": [
        "# Make scatter plot/joinplot for Rating vs. Price\n",
        "sns.jointplot(x=\"Price\",y=\"Rating\",data=df1)"
      ],
      "metadata": {
        "id": "aYnGG-sxFdMK",
        "colab": {
          "base_uri": "https://localhost:8080/",
          "height": 624
        },
        "outputId": "d1485bc8-5564-4bd8-c283-36447b6db77c"
      },
      "execution_count": 215,
      "outputs": [
        {
          "output_type": "execute_result",
          "data": {
            "text/plain": [
              "<seaborn.axisgrid.JointGrid at 0x7c62c73a3e20>"
            ]
          },
          "metadata": {},
          "execution_count": 215
        },
        {
          "output_type": "display_data",
          "data": {
            "text/plain": [
              "<Figure size 600x600 with 3 Axes>"
            ],
            "image/png": "[encoded data removed]"
          },
          "metadata": {}
        }
      ]
    },
    {
      "cell_type": "code",
      "source": [
        "# Make scatter plot/joinplot for Rating vs Size\n",
        "sns.jointplot(x=\"Size\",y=\"Rating\",data=df1)\n",
        "plt.tight_layout()"
      ],
      "metadata": {
        "id": "-h8QjSlGH8NU",
        "colab": {
          "base_uri": "https://localhost:8080/",
          "height": 606
        },
        "outputId": "39827040-864d-4e81-f53d-be7a41ba91dc"
      },
      "execution_count": 216,
      "outputs": [
        {
          "output_type": "display_data",
          "data": {
            "text/plain": [
              "<Figure size 600x600 with 3 Axes>"
            ],
            "image/png": "[encoded data removed]"
          },
          "metadata": {}
        }
      ]
    },
    {
      "cell_type": "code",
      "source": [
        "# Make scatter plot/joinplot for Rating vs. Reviews\n",
        "sns.jointplot(x=\"Reviews\",y=\"Rating\",data=df1)"
      ],
      "metadata": {
        "id": "6zcQuiGDIJxr",
        "colab": {
          "base_uri": "https://localhost:8080/",
          "height": 694
        },
        "outputId": "d26af591-4fdf-48d0-a5fd-b2398590819b"
      },
      "execution_count": 217,
      "outputs": [
        {
          "output_type": "stream",
          "name": "stderr",
          "text": [
            "/usr/local/lib/python3.10/dist-packages/seaborn/distributions.py:499: FutureWarning: In a future version, the Index constructor will not infer numeric dtypes when passed object-dtype sequences (matching Series behavior)\n",
            "  pd.Index(edges, name=\"edges\"),\n",
            "/usr/local/lib/python3.10/dist-packages/seaborn/distributions.py:500: FutureWarning: In a future version, the Index constructor will not infer numeric dtypes when passed object-dtype sequences (matching Series behavior)\n",
            "  pd.Index(widths, name=\"widths\"),\n"
          ]
        },
        {
          "output_type": "execute_result",
          "data": {
            "text/plain": [
              "<seaborn.axisgrid.JointGrid at 0x7c62cb121c00>"
            ]
          },
          "metadata": {},
          "execution_count": 217
        },
        {
          "output_type": "display_data",
          "data": {
            "text/plain": [
              "<Figure size 600x600 with 3 Axes>"
            ],
            "image/png": "[encoded data removed]"
          },
          "metadata": {}
        }
      ]
    },
    {
      "cell_type": "code",
      "source": [
        "# Does more review mean a better rating always?\n",
        "df1.corr()"
      ],
      "metadata": {
        "id": "vcq2cOu9IWm7",
        "colab": {
          "base_uri": "https://localhost:8080/",
          "height": 230
        },
        "outputId": "7ee00645-3404-4e31-c132-b989e7b8c09d"
      },
      "execution_count": 218,
      "outputs": [
        {
          "output_type": "stream",
          "name": "stderr",
          "text": [
            "<ipython-input-218-0768bacd1699>:2: FutureWarning: The default value of numeric_only in DataFrame.corr is deprecated. In a future version, it will default to False. Select only valid columns or specify the value of numeric_only to silence this warning.\n",
            "  df1.corr()\n"
          ]
        },
        {
          "output_type": "execute_result",
          "data": {
            "text/plain": [
              "            Rating   Reviews  Installs     Price\n",
              "Rating    1.000000  0.140847  0.104293 -0.020668\n",
              "Reviews   0.140847  1.000000  0.712962 -0.019135\n",
              "Installs  0.104293  0.712962  1.000000 -0.024953\n",
              "Price    -0.020668 -0.019135 -0.024953  1.000000"
            ],
            "text/html": [
              "\n",
              "  <div id=\"df-9c510397-ea8d-44a7-a223-edc74241dc67\" class=\"colab-df-container\">\n",
              "    <div>\n",
              "<style scoped>\n",
              "    .dataframe tbody tr th:only-of-type {\n",
              "        vertical-align: middle;\n",
              "    }\n",
              "\n",
              "    .dataframe tbody tr th {\n",
              "        vertical-align: top;\n",
              "    }\n",
              "\n",
              "    .dataframe thead th {\n",
              "        text-align: right;\n",
              "    }\n",
              "</style>\n",
              "<table border=\"1\" class=\"dataframe\">\n",
              "  <thead>\n",
              "    <tr style=\"text-align: right;\">\n",
              "      <th></th>\n",
              "      <th>Rating</th>\n",
              "      <th>Reviews</th>\n",
              "      <th>Installs</th>\n",
              "      <th>Price</th>\n",
              "    </tr>\n",
              "  </thead>\n",
              "  <tbody>\n",
              "    <tr>\n",
              "      <th>Rating</th>\n",
              "      <td>1.000000</td>\n",
              "      <td>0.140847</td>\n",
              "      <td>0.104293</td>\n",
              "      <td>-0.020668</td>\n",
              "    </tr>\n",
              "    <tr>\n",
              "      <th>Reviews</th>\n",
              "      <td>0.140847</td>\n",
              "      <td>1.000000</td>\n",
              "      <td>0.712962</td>\n",
              "      <td>-0.019135</td>\n",
              "    </tr>\n",
              "    <tr>\n",
              "      <th>Installs</th>\n",
              "      <td>0.104293</td>\n",
              "      <td>0.712962</td>\n",
              "      <td>1.000000</td>\n",
              "      <td>-0.024953</td>\n",
              "    </tr>\n",
              "    <tr>\n",
              "      <th>Price</th>\n",
              "      <td>-0.020668</td>\n",
              "      <td>-0.019135</td>\n",
              "      <td>-0.024953</td>\n",
              "      <td>1.000000</td>\n",
              "    </tr>\n",
              "  </tbody>\n",
              "</table>\n",
              "</div>\n",
              "    <div class=\"colab-df-buttons\">\n",
              "\n",
              "  <div class=\"colab-df-container\">\n",
              "    <button class=\"colab-df-convert\" onclick=\"convertToInteractive('df-9c510397-ea8d-44a7-a223-edc74241dc67')\"\n",
              "            title=\"Convert this dataframe to an interactive table.\"\n",
              "            style=\"display:none;\">\n",
              "\n",
              "  <svg xmlns=\"http://www.w3.org/2000/svg\" height=\"24px\" viewBox=\"0 -960 960 960\">\n",
              "    <path d=\"M120-120v-720h720v720H120Zm60-500h600v-160H180v160Zm220 220h160v-160H400v160Zm0 220h160v-160H400v160ZM180-400h160v-160H180v160Zm440 0h160v-160H620v160ZM180-180h160v-160H180v160Zm440 0h160v-160H620v160Z\"/>\n",
              "  </svg>\n",
              "    </button>\n",
              "\n",
              "  <style>\n",
              "    .colab-df-container {\n",
              "      display:flex;\n",
              "      gap: 12px;\n",
              "    }\n",
              "\n",
              "    .colab-df-convert {\n",
              "      background-color: #E8F0FE;\n",
              "      border: none;\n",
              "      border-radius: 50%;\n",
              "      cursor: pointer;\n",
              "      display: none;\n",
              "      fill: #1967D2;\n",
              "      height: 32px;\n",
              "      padding: 0 0 0 0;\n",
              "      width: 32px;\n",
              "    }\n",
              "\n",
              "    .colab-df-convert:hover {\n",
              "      background-color: #E2EBFA;\n",
              "      box-shadow: 0px 1px 2px rgba(60, 64, 67, 0.3), 0px 1px 3px 1px rgba(60, 64, 67, 0.15);\n",
              "      fill: #174EA6;\n",
              "    }\n",
              "\n",
              "    .colab-df-buttons div {\n",
              "      margin-bottom: 4px;\n",
              "    }\n",
              "\n",
              "    [theme=dark] .colab-df-convert {\n",
              "      background-color: #3B4455;\n",
              "      fill: #D2E3FC;\n",
              "    }\n",
              "\n",
              "    [theme=dark] .colab-df-convert:hover {\n",
              "      background-color: #434B5C;\n",
              "      box-shadow: 0px 1px 3px 1px rgba(0, 0, 0, 0.15);\n",
              "      filter: drop-shadow(0px 1px 2px rgba(0, 0, 0, 0.3));\n",
              "      fill: #FFFFFF;\n",
              "    }\n",
              "  </style>\n",
              "\n",
              "    <script>\n",
              "      const buttonEl =\n",
              "        document.querySelector('#df-9c510397-ea8d-44a7-a223-edc74241dc67 button.colab-df-convert');\n",
              "      buttonEl.style.display =\n",
              "        google.colab.kernel.accessAllowed ? 'block' : 'none';\n",
              "\n",
              "      async function convertToInteractive(key) {\n",
              "        const element = document.querySelector('#df-9c510397-ea8d-44a7-a223-edc74241dc67');\n",
              "        const dataTable =\n",
              "          await google.colab.kernel.invokeFunction('convertToInteractive',\n",
              "                                                    [key], {});\n",
              "        if (!dataTable) return;\n",
              "\n",
              "        const docLinkHtml = 'Like what you see? Visit the ' +\n",
              "          '<a target=\"_blank\" href=https://colab.research.google.com/notebooks/data_table.ipynb>data table notebook</a>'\n",
              "          + ' to learn more about interactive tables.';\n",
              "        element.innerHTML = '';\n",
              "        dataTable['output_type'] = 'display_data';\n",
              "        await google.colab.output.renderOutput(dataTable, element);\n",
              "        const docLink = document.createElement('div');\n",
              "        docLink.innerHTML = docLinkHtml;\n",
              "        element.appendChild(docLink);\n",
              "      }\n",
              "    </script>\n",
              "  </div>\n",
              "\n",
              "\n",
              "<div id=\"df-2d8ea409-3b5e-41bb-9d85-06e9dda730e5\">\n",
              "  <button class=\"colab-df-quickchart\" onclick=\"quickchart('df-2d8ea409-3b5e-41bb-9d85-06e9dda730e5')\"\n",
              "            title=\"Suggest charts\"\n",
              "            style=\"display:none;\">\n",
              "\n",
              "<svg xmlns=\"http://www.w3.org/2000/svg\" height=\"24px\"viewBox=\"0 0 24 24\"\n",
              "     width=\"24px\">\n",
              "    <g>\n",
              "        <path d=\"M19 3H5c-1.1 0-2 .9-2 2v14c0 1.1.9 2 2 2h14c1.1 0 2-.9 2-2V5c0-1.1-.9-2-2-2zM9 17H7v-7h2v7zm4 0h-2V7h2v10zm4 0h-2v-4h2v4z\"/>\n",
              "    </g>\n",
              "</svg>\n",
              "  </button>\n",
              "\n",
              "<style>\n",
              "  .colab-df-quickchart {\n",
              "      --bg-color: #E8F0FE;\n",
              "      --fill-color: #1967D2;\n",
              "      --hover-bg-color: #E2EBFA;\n",
              "      --hover-fill-color: #174EA6;\n",
              "      --disabled-fill-color: #AAA;\n",
              "      --disabled-bg-color: #DDD;\n",
              "  }\n",
              "\n",
              "  [theme=dark] .colab-df-quickchart {\n",
              "      --bg-color: #3B4455;\n",
              "      --fill-color: #D2E3FC;\n",
              "      --hover-bg-color: #434B5C;\n",
              "      --hover-fill-color: #FFFFFF;\n",
              "      --disabled-bg-color: #3B4455;\n",
              "      --disabled-fill-color: #666;\n",
              "  }\n",
              "\n",
              "  .colab-df-quickchart {\n",
              "    background-color: var(--bg-color);\n",
              "    border: none;\n",
              "    border-radius: 50%;\n",
              "    cursor: pointer;\n",
              "    display: none;\n",
              "    fill: var(--fill-color);\n",
              "    height: 32px;\n",
              "    padding: 0;\n",
              "    width: 32px;\n",
              "  }\n",
              "\n",
              "  .colab-df-quickchart:hover {\n",
              "    background-color: var(--hover-bg-color);\n",
              "    box-shadow: 0 1px 2px rgba(60, 64, 67, 0.3), 0 1px 3px 1px rgba(60, 64, 67, 0.15);\n",
              "    fill: var(--button-hover-fill-color);\n",
              "  }\n",
              "\n",
              "  .colab-df-quickchart-complete:disabled,\n",
              "  .colab-df-quickchart-complete:disabled:hover {\n",
              "    background-color: var(--disabled-bg-color);\n",
              "    fill: var(--disabled-fill-color);\n",
              "    box-shadow: none;\n",
              "  }\n",
              "\n",
              "  .colab-df-spinner {\n",
              "    border: 2px solid var(--fill-color);\n",
              "    border-color: transparent;\n",
              "    border-bottom-color: var(--fill-color);\n",
              "    animation:\n",
              "      spin 1s steps(1) infinite;\n",
              "  }\n",
              "\n",
              "  @keyframes spin {\n",
              "    0% {\n",
              "      border-color: transparent;\n",
              "      border-bottom-color: var(--fill-color);\n",
              "      border-left-color: var(--fill-color);\n",
              "    }\n",
              "    20% {\n",
              "      border-color: transparent;\n",
              "      border-left-color: var(--fill-color);\n",
              "      border-top-color: var(--fill-color);\n",
              "    }\n",
              "    30% {\n",
              "      border-color: transparent;\n",
              "      border-left-color: var(--fill-color);\n",
              "      border-top-color: var(--fill-color);\n",
              "      border-right-color: var(--fill-color);\n",
              "    }\n",
              "    40% {\n",
              "      border-color: transparent;\n",
              "      border-right-color: var(--fill-color);\n",
              "      border-top-color: var(--fill-color);\n",
              "    }\n",
              "    60% {\n",
              "      border-color: transparent;\n",
              "      border-right-color: var(--fill-color);\n",
              "    }\n",
              "    80% {\n",
              "      border-color: transparent;\n",
              "      border-right-color: var(--fill-color);\n",
              "      border-bottom-color: var(--fill-color);\n",
              "    }\n",
              "    90% {\n",
              "      border-color: transparent;\n",
              "      border-bottom-color: var(--fill-color);\n",
              "    }\n",
              "  }\n",
              "</style>\n",
              "\n",
              "  <script>\n",
              "    async function quickchart(key) {\n",
              "      const quickchartButtonEl =\n",
              "        document.querySelector('#' + key + ' button');\n",
              "      quickchartButtonEl.disabled = true;  // To prevent multiple clicks.\n",
              "      quickchartButtonEl.classList.add('colab-df-spinner');\n",
              "      try {\n",
              "        const charts = await google.colab.kernel.invokeFunction(\n",
              "            'suggestCharts', [key], {});\n",
              "      } catch (error) {\n",
              "        console.error('Error during call to suggestCharts:', error);\n",
              "      }\n",
              "      quickchartButtonEl.classList.remove('colab-df-spinner');\n",
              "      quickchartButtonEl.classList.add('colab-df-quickchart-complete');\n",
              "    }\n",
              "    (() => {\n",
              "      let quickchartButtonEl =\n",
              "        document.querySelector('#df-2d8ea409-3b5e-41bb-9d85-06e9dda730e5 button');\n",
              "      quickchartButtonEl.style.display =\n",
              "        google.colab.kernel.accessAllowed ? 'block' : 'none';\n",
              "    })();\n",
              "  </script>\n",
              "</div>\n",
              "\n",
              "    </div>\n",
              "  </div>\n"
            ]
          },
          "metadata": {},
          "execution_count": 218
        }
      ]
    },
    {
      "cell_type": "code",
      "source": [
        "# Make boxplot for Rating vs. Content Rating\n",
        "# Is there any difference in the ratings? Are some types liked better?\n",
        "df1[\"Content Rating\"].unique()"
      ],
      "metadata": {
        "id": "BjDDQF2OIZTS",
        "colab": {
          "base_uri": "https://localhost:8080/"
        },
        "outputId": "77aa68cc-ee32-4cf4-e314-3850cc6c25a6"
      },
      "execution_count": 219,
      "outputs": [
        {
          "output_type": "execute_result",
          "data": {
            "text/plain": [
              "array(['Everyone', 'Teen', 'Everyone 10+', 'Mature 17+',\n",
              "       'Adults only 18+', 'Unrated'], dtype=object)"
            ]
          },
          "metadata": {},
          "execution_count": 219
        }
      ]
    },
    {
      "cell_type": "code",
      "source": [
        "sns.boxplot(x=\"Rating\",y=\"Content Rating\",data=df1)\n",
        "#shows the distribution of quantitative data in away that shows the comparision between variables"
      ],
      "metadata": {
        "id": "pZdaPR29IpUP",
        "colab": {
          "base_uri": "https://localhost:8080/",
          "height": 466
        },
        "outputId": "4fed211b-4207-4f13-cad4-ea48917c7ab6"
      },
      "execution_count": 220,
      "outputs": [
        {
          "output_type": "execute_result",
          "data": {
            "text/plain": [
              "<Axes: xlabel='Rating', ylabel='Content Rating'>"
            ]
          },
          "metadata": {},
          "execution_count": 220
        },
        {
          "output_type": "display_data",
          "data": {
            "text/plain": [
              "<Figure size 640x480 with 1 Axes>"
            ],
            "image/png": "[encoded data removed]"
          },
          "metadata": {}
        }
      ]
    },
    {
      "cell_type": "code",
      "source": [
        "plt.figure(figsize=(10,10)) #creates a new figure objects,figsize displays the width size and height size\n",
        "sns.boxplot(x=\"Rating\",y=\"Category\",data=df1)\n"
      ],
      "metadata": {
        "id": "hPe_6Z25I0ed",
        "colab": {
          "base_uri": "https://localhost:8080/",
          "height": 867
        },
        "outputId": "40026891-ff81-4e16-d866-a71b064c131b"
      },
      "execution_count": 221,
      "outputs": [
        {
          "output_type": "execute_result",
          "data": {
            "text/plain": [
              "<Axes: xlabel='Rating', ylabel='Category'>"
            ]
          },
          "metadata": {},
          "execution_count": 221
        },
        {
          "output_type": "display_data",
          "data": {
            "text/plain": [
              "<Figure size 1000x1000 with 1 Axes>"
            ],
            "image/png": "[encoded data removed]"
          },
          "metadata": {}
        }
      ]
    },
    {
      "cell_type": "markdown",
      "source": [
        "#8. Data preprocessing\n",
        "\n",
        " For the steps below, create a copy of the dataframe to make all the edits. Name it inp1.\n",
        "\n",
        " Reviews and Install have some values that are still relatively very high. Before building a linear regression model,\n",
        " you need to reduce the skew. Apply log transformation (np.log1p) to Reviews and Installs.\n",
        "\n",
        " Drop columns App, Last Updated, Current Ver, and Android Ver. These variables are not useful for our task.\n",
        "\n",
        " Get dummy columns for Category, Genres, and Content Rating. This needs to be done as the models do not understand categorical\n",
        " data, and all data should be numeric. Dummy encoding is one way to convert character fields to numeric. Name of dataframe\n",
        " should be inp2."
      ],
      "metadata": {
        "id": "Y7oyT-GjJH21"
      }
    },
    {
      "cell_type": "code",
      "source": [
        "inp1 = df1.copy()"
      ],
      "metadata": {
        "id": "VNQntOFe_6-T"
      },
      "execution_count": 222,
      "outputs": []
    },
    {
      "cell_type": "code",
      "source": [
        "# Apply log transformation to 'Reviews' and 'Installs'\n",
        "inp1['Reviews'] = np.log1p(inp1['Reviews'])\n",
        "inp1['Installs'] = np.log1p(inp1['Installs'])"
      ],
      "metadata": {
        "id": "aEvuFLE-ApET"
      },
      "execution_count": 223,
      "outputs": []
    },
    {
      "cell_type": "code",
      "source": [
        "# Drop unnecessary columns\n",
        "columns_to_drop = ['App', 'Last Updated', 'Current Ver', 'Android Ver']\n",
        "inp1.drop(columns=columns_to_drop, inplace=True)"
      ],
      "metadata": {
        "id": "2RkNhMH7Arqq"
      },
      "execution_count": 224,
      "outputs": []
    },
    {
      "cell_type": "code",
      "source": [
        "inp1.info()"
      ],
      "metadata": {
        "colab": {
          "base_uri": "https://localhost:8080/"
        },
        "id": "FS43EhiNCgJ9",
        "outputId": "44718ce6-45bf-4132-c7de-106bc1963cca"
      },
      "execution_count": 225,
      "outputs": [
        {
          "output_type": "stream",
          "name": "stdout",
          "text": [
            "<class 'pandas.core.frame.DataFrame'>\n",
            "Int64Index: 8814 entries, 0 to 10840\n",
            "Data columns (total 10 columns):\n",
            " #   Column          Non-Null Count  Dtype  \n",
            "---  ------          --------------  -----  \n",
            " 0   Category        8814 non-null   object \n",
            " 1   Rating          8814 non-null   float64\n",
            " 2   Reviews         8814 non-null   Float64\n",
            " 3   Size            8814 non-null   object \n",
            " 4   Installs        8814 non-null   float64\n",
            " 5   Type            8814 non-null   object \n",
            " 6   Price           8814 non-null   float64\n",
            " 7   Content Rating  8814 non-null   object \n",
            " 8   Genres          8814 non-null   object \n",
            " 9   Size(Kb)        0 non-null      object \n",
            "dtypes: Float64(1), float64(3), object(6)\n",
            "memory usage: 766.1+ KB\n"
          ]
        }
      ]
    },
    {
      "cell_type": "code",
      "source": [
        "# Get dummy columns for 'Category', 'Genres', and 'Content Rating' using pd.get_dummies\n",
        "inp2 = pd.get_dummies(inp1, columns=['Category', 'Genres', 'Content Rating'], drop_first=True)"
      ],
      "metadata": {
        "id": "sFt-pCeyAuwW"
      },
      "execution_count": 226,
      "outputs": []
    },
    {
      "cell_type": "code",
      "source": [
        "print(inp2.head())"
      ],
      "metadata": {
        "colab": {
          "base_uri": "https://localhost:8080/"
        },
        "id": "MGQdDiewAyDf",
        "outputId": "960fba14-dae0-46eb-cf2f-205233999bc2"
      },
      "execution_count": 227,
      "outputs": [
        {
          "output_type": "stream",
          "name": "stdout",
          "text": [
            "   Rating    Reviews  Size   Installs  Type  Price Size(Kb)  \\\n",
            "0     4.1   5.075174   19M   9.210440  Free    0.0     None   \n",
            "1     3.9   6.875232   14M  13.122365  Free    0.0     None   \n",
            "2     4.7   11.37952  8.7M  15.424949  Free    0.0     None   \n",
            "3     4.5  12.281389   25M  17.727534  Free    0.0     None   \n",
            "4     4.3   6.875232  2.8M  11.512935  Free    0.0     None   \n",
            "\n",
            "   Category_AUTO_AND_VEHICLES  Category_BEAUTY  Category_BOOKS_AND_REFERENCE  \\\n",
            "0                           0                0                             0   \n",
            "1                           0                0                             0   \n",
            "2                           0                0                             0   \n",
            "3                           0                0                             0   \n",
            "4                           0                0                             0   \n",
            "\n",
            "   ...  Genres_Video Players & Editors  \\\n",
            "0  ...                               0   \n",
            "1  ...                               0   \n",
            "2  ...                               0   \n",
            "3  ...                               0   \n",
            "4  ...                               0   \n",
            "\n",
            "   Genres_Video Players & Editors;Creativity  \\\n",
            "0                                          0   \n",
            "1                                          0   \n",
            "2                                          0   \n",
            "3                                          0   \n",
            "4                                          0   \n",
            "\n",
            "   Genres_Video Players & Editors;Music & Video  Genres_Weather  Genres_Word  \\\n",
            "0                                             0               0            0   \n",
            "1                                             0               0            0   \n",
            "2                                             0               0            0   \n",
            "3                                             0               0            0   \n",
            "4                                             0               0            0   \n",
            "\n",
            "   Content Rating_Everyone  Content Rating_Everyone 10+  \\\n",
            "0                        1                            0   \n",
            "1                        1                            0   \n",
            "2                        1                            0   \n",
            "3                        0                            0   \n",
            "4                        1                            0   \n",
            "\n",
            "   Content Rating_Mature 17+  Content Rating_Teen  Content Rating_Unrated  \n",
            "0                          0                    0                       0  \n",
            "1                          0                    0                       0  \n",
            "2                          0                    0                       0  \n",
            "3                          0                    1                       0  \n",
            "4                          0                    0                       0  \n",
            "\n",
            "[5 rows x 158 columns]\n"
          ]
        }
      ]
    },
    {
      "cell_type": "code",
      "source": [
        "inp2.head(2)"
      ],
      "metadata": {
        "id": "PmDtimzMJ_cu",
        "colab": {
          "base_uri": "https://localhost:8080/",
          "height": 214
        },
        "outputId": "162ec065-f318-4aea-c04b-14dcf36cbe4a"
      },
      "execution_count": 228,
      "outputs": [
        {
          "output_type": "execute_result",
          "data": {
            "text/plain": [
              "   Rating   Reviews Size   Installs  Type  Price Size(Kb)  \\\n",
              "0     4.1  5.075174  19M   9.210440  Free    0.0     None   \n",
              "1     3.9  6.875232  14M  13.122365  Free    0.0     None   \n",
              "\n",
              "   Category_AUTO_AND_VEHICLES  Category_BEAUTY  Category_BOOKS_AND_REFERENCE  \\\n",
              "0                           0                0                             0   \n",
              "1                           0                0                             0   \n",
              "\n",
              "   ...  Genres_Video Players & Editors  \\\n",
              "0  ...                               0   \n",
              "1  ...                               0   \n",
              "\n",
              "   Genres_Video Players & Editors;Creativity  \\\n",
              "0                                          0   \n",
              "1                                          0   \n",
              "\n",
              "   Genres_Video Players & Editors;Music & Video  Genres_Weather  Genres_Word  \\\n",
              "0                                             0               0            0   \n",
              "1                                             0               0            0   \n",
              "\n",
              "   Content Rating_Everyone  Content Rating_Everyone 10+  \\\n",
              "0                        1                            0   \n",
              "1                        1                            0   \n",
              "\n",
              "   Content Rating_Mature 17+  Content Rating_Teen  Content Rating_Unrated  \n",
              "0                          0                    0                       0  \n",
              "1                          0                    0                       0  \n",
              "\n",
              "[2 rows x 158 columns]"
            ],
            "text/html": [
              "\n",
              "  <div id=\"df-9dee3fd0-db04-4610-a109-111002d0a758\" class=\"colab-df-container\">\n",
              "    <div>\n",
              "<style scoped>\n",
              "    .dataframe tbody tr th:only-of-type {\n",
              "        vertical-align: middle;\n",
              "    }\n",
              "\n",
              "    .dataframe tbody tr th {\n",
              "        vertical-align: top;\n",
              "    }\n",
              "\n",
              "    .dataframe thead th {\n",
              "        text-align: right;\n",
              "    }\n",
              "</style>\n",
              "<table border=\"1\" class=\"dataframe\">\n",
              "  <thead>\n",
              "    <tr style=\"text-align: right;\">\n",
              "      <th></th>\n",
              "      <th>Rating</th>\n",
              "      <th>Reviews</th>\n",
              "      <th>Size</th>\n",
              "      <th>Installs</th>\n",
              "      <th>Type</th>\n",
              "      <th>Price</th>\n",
              "      <th>Size(Kb)</th>\n",
              "      <th>Category_AUTO_AND_VEHICLES</th>\n",
              "      <th>Category_BEAUTY</th>\n",
              "      <th>Category_BOOKS_AND_REFERENCE</th>\n",
              "      <th>...</th>\n",
              "      <th>Genres_Video Players &amp; Editors</th>\n",
              "      <th>Genres_Video Players &amp; Editors;Creativity</th>\n",
              "      <th>Genres_Video Players &amp; Editors;Music &amp; Video</th>\n",
              "      <th>Genres_Weather</th>\n",
              "      <th>Genres_Word</th>\n",
              "      <th>Content Rating_Everyone</th>\n",
              "      <th>Content Rating_Everyone 10+</th>\n",
              "      <th>Content Rating_Mature 17+</th>\n",
              "      <th>Content Rating_Teen</th>\n",
              "      <th>Content Rating_Unrated</th>\n",
              "    </tr>\n",
              "  </thead>\n",
              "  <tbody>\n",
              "    <tr>\n",
              "      <th>0</th>\n",
              "      <td>4.1</td>\n",
              "      <td>5.075174</td>\n",
              "      <td>19M</td>\n",
              "      <td>9.210440</td>\n",
              "      <td>Free</td>\n",
              "      <td>0.0</td>\n",
              "      <td>None</td>\n",
              "      <td>0</td>\n",
              "      <td>0</td>\n",
              "      <td>0</td>\n",
              "      <td>...</td>\n",
              "      <td>0</td>\n",
              "      <td>0</td>\n",
              "      <td>0</td>\n",
              "      <td>0</td>\n",
              "      <td>0</td>\n",
              "      <td>1</td>\n",
              "      <td>0</td>\n",
              "      <td>0</td>\n",
              "      <td>0</td>\n",
              "      <td>0</td>\n",
              "    </tr>\n",
              "    <tr>\n",
              "      <th>1</th>\n",
              "      <td>3.9</td>\n",
              "      <td>6.875232</td>\n",
              "      <td>14M</td>\n",
              "      <td>13.122365</td>\n",
              "      <td>Free</td>\n",
              "      <td>0.0</td>\n",
              "      <td>None</td>\n",
              "      <td>0</td>\n",
              "      <td>0</td>\n",
              "      <td>0</td>\n",
              "      <td>...</td>\n",
              "      <td>0</td>\n",
              "      <td>0</td>\n",
              "      <td>0</td>\n",
              "      <td>0</td>\n",
              "      <td>0</td>\n",
              "      <td>1</td>\n",
              "      <td>0</td>\n",
              "      <td>0</td>\n",
              "      <td>0</td>\n",
              "      <td>0</td>\n",
              "    </tr>\n",
              "  </tbody>\n",
              "</table>\n",
              "<p>2 rows × 158 columns</p>\n",
              "</div>\n",
              "    <div class=\"colab-df-buttons\">\n",
              "\n",
              "  <div class=\"colab-df-container\">\n",
              "    <button class=\"colab-df-convert\" onclick=\"convertToInteractive('df-9dee3fd0-db04-4610-a109-111002d0a758')\"\n",
              "            title=\"Convert this dataframe to an interactive table.\"\n",
              "            style=\"display:none;\">\n",
              "\n",
              "  <svg xmlns=\"http://www.w3.org/2000/svg\" height=\"24px\" viewBox=\"0 -960 960 960\">\n",
              "    <path d=\"M120-120v-720h720v720H120Zm60-500h600v-160H180v160Zm220 220h160v-160H400v160Zm0 220h160v-160H400v160ZM180-400h160v-160H180v160Zm440 0h160v-160H620v160ZM180-180h160v-160H180v160Zm440 0h160v-160H620v160Z\"/>\n",
              "  </svg>\n",
              "    </button>\n",
              "\n",
              "  <style>\n",
              "    .colab-df-container {\n",
              "      display:flex;\n",
              "      gap: 12px;\n",
              "    }\n",
              "\n",
              "    .colab-df-convert {\n",
              "      background-color: #E8F0FE;\n",
              "      border: none;\n",
              "      border-radius: 50%;\n",
              "      cursor: pointer;\n",
              "      display: none;\n",
              "      fill: #1967D2;\n",
              "      height: 32px;\n",
              "      padding: 0 0 0 0;\n",
              "      width: 32px;\n",
              "    }\n",
              "\n",
              "    .colab-df-convert:hover {\n",
              "      background-color: #E2EBFA;\n",
              "      box-shadow: 0px 1px 2px rgba(60, 64, 67, 0.3), 0px 1px 3px 1px rgba(60, 64, 67, 0.15);\n",
              "      fill: #174EA6;\n",
              "    }\n",
              "\n",
              "    .colab-df-buttons div {\n",
              "      margin-bottom: 4px;\n",
              "    }\n",
              "\n",
              "    [theme=dark] .colab-df-convert {\n",
              "      background-color: #3B4455;\n",
              "      fill: #D2E3FC;\n",
              "    }\n",
              "\n",
              "    [theme=dark] .colab-df-convert:hover {\n",
              "      background-color: #434B5C;\n",
              "      box-shadow: 0px 1px 3px 1px rgba(0, 0, 0, 0.15);\n",
              "      filter: drop-shadow(0px 1px 2px rgba(0, 0, 0, 0.3));\n",
              "      fill: #FFFFFF;\n",
              "    }\n",
              "  </style>\n",
              "\n",
              "    <script>\n",
              "      const buttonEl =\n",
              "        document.querySelector('#df-9dee3fd0-db04-4610-a109-111002d0a758 button.colab-df-convert');\n",
              "      buttonEl.style.display =\n",
              "        google.colab.kernel.accessAllowed ? 'block' : 'none';\n",
              "\n",
              "      async function convertToInteractive(key) {\n",
              "        const element = document.querySelector('#df-9dee3fd0-db04-4610-a109-111002d0a758');\n",
              "        const dataTable =\n",
              "          await google.colab.kernel.invokeFunction('convertToInteractive',\n",
              "                                                    [key], {});\n",
              "        if (!dataTable) return;\n",
              "\n",
              "        const docLinkHtml = 'Like what you see? Visit the ' +\n",
              "          '<a target=\"_blank\" href=https://colab.research.google.com/notebooks/data_table.ipynb>data table notebook</a>'\n",
              "          + ' to learn more about interactive tables.';\n",
              "        element.innerHTML = '';\n",
              "        dataTable['output_type'] = 'display_data';\n",
              "        await google.colab.output.renderOutput(dataTable, element);\n",
              "        const docLink = document.createElement('div');\n",
              "        docLink.innerHTML = docLinkHtml;\n",
              "        element.appendChild(docLink);\n",
              "      }\n",
              "    </script>\n",
              "  </div>\n",
              "\n",
              "\n",
              "<div id=\"df-43219a7a-ffb5-4a08-9b54-d90f0f221120\">\n",
              "  <button class=\"colab-df-quickchart\" onclick=\"quickchart('df-43219a7a-ffb5-4a08-9b54-d90f0f221120')\"\n",
              "            title=\"Suggest charts\"\n",
              "            style=\"display:none;\">\n",
              "\n",
              "<svg xmlns=\"http://www.w3.org/2000/svg\" height=\"24px\"viewBox=\"0 0 24 24\"\n",
              "     width=\"24px\">\n",
              "    <g>\n",
              "        <path d=\"M19 3H5c-1.1 0-2 .9-2 2v14c0 1.1.9 2 2 2h14c1.1 0 2-.9 2-2V5c0-1.1-.9-2-2-2zM9 17H7v-7h2v7zm4 0h-2V7h2v10zm4 0h-2v-4h2v4z\"/>\n",
              "    </g>\n",
              "</svg>\n",
              "  </button>\n",
              "\n",
              "<style>\n",
              "  .colab-df-quickchart {\n",
              "      --bg-color: #E8F0FE;\n",
              "      --fill-color: #1967D2;\n",
              "      --hover-bg-color: #E2EBFA;\n",
              "      --hover-fill-color: #174EA6;\n",
              "      --disabled-fill-color: #AAA;\n",
              "      --disabled-bg-color: #DDD;\n",
              "  }\n",
              "\n",
              "  [theme=dark] .colab-df-quickchart {\n",
              "      --bg-color: #3B4455;\n",
              "      --fill-color: #D2E3FC;\n",
              "      --hover-bg-color: #434B5C;\n",
              "      --hover-fill-color: #FFFFFF;\n",
              "      --disabled-bg-color: #3B4455;\n",
              "      --disabled-fill-color: #666;\n",
              "  }\n",
              "\n",
              "  .colab-df-quickchart {\n",
              "    background-color: var(--bg-color);\n",
              "    border: none;\n",
              "    border-radius: 50%;\n",
              "    cursor: pointer;\n",
              "    display: none;\n",
              "    fill: var(--fill-color);\n",
              "    height: 32px;\n",
              "    padding: 0;\n",
              "    width: 32px;\n",
              "  }\n",
              "\n",
              "  .colab-df-quickchart:hover {\n",
              "    background-color: var(--hover-bg-color);\n",
              "    box-shadow: 0 1px 2px rgba(60, 64, 67, 0.3), 0 1px 3px 1px rgba(60, 64, 67, 0.15);\n",
              "    fill: var(--button-hover-fill-color);\n",
              "  }\n",
              "\n",
              "  .colab-df-quickchart-complete:disabled,\n",
              "  .colab-df-quickchart-complete:disabled:hover {\n",
              "    background-color: var(--disabled-bg-color);\n",
              "    fill: var(--disabled-fill-color);\n",
              "    box-shadow: none;\n",
              "  }\n",
              "\n",
              "  .colab-df-spinner {\n",
              "    border: 2px solid var(--fill-color);\n",
              "    border-color: transparent;\n",
              "    border-bottom-color: var(--fill-color);\n",
              "    animation:\n",
              "      spin 1s steps(1) infinite;\n",
              "  }\n",
              "\n",
              "  @keyframes spin {\n",
              "    0% {\n",
              "      border-color: transparent;\n",
              "      border-bottom-color: var(--fill-color);\n",
              "      border-left-color: var(--fill-color);\n",
              "    }\n",
              "    20% {\n",
              "      border-color: transparent;\n",
              "      border-left-color: var(--fill-color);\n",
              "      border-top-color: var(--fill-color);\n",
              "    }\n",
              "    30% {\n",
              "      border-color: transparent;\n",
              "      border-left-color: var(--fill-color);\n",
              "      border-top-color: var(--fill-color);\n",
              "      border-right-color: var(--fill-color);\n",
              "    }\n",
              "    40% {\n",
              "      border-color: transparent;\n",
              "      border-right-color: var(--fill-color);\n",
              "      border-top-color: var(--fill-color);\n",
              "    }\n",
              "    60% {\n",
              "      border-color: transparent;\n",
              "      border-right-color: var(--fill-color);\n",
              "    }\n",
              "    80% {\n",
              "      border-color: transparent;\n",
              "      border-right-color: var(--fill-color);\n",
              "      border-bottom-color: var(--fill-color);\n",
              "    }\n",
              "    90% {\n",
              "      border-color: transparent;\n",
              "      border-bottom-color: var(--fill-color);\n",
              "    }\n",
              "  }\n",
              "</style>\n",
              "\n",
              "  <script>\n",
              "    async function quickchart(key) {\n",
              "      const quickchartButtonEl =\n",
              "        document.querySelector('#' + key + ' button');\n",
              "      quickchartButtonEl.disabled = true;  // To prevent multiple clicks.\n",
              "      quickchartButtonEl.classList.add('colab-df-spinner');\n",
              "      try {\n",
              "        const charts = await google.colab.kernel.invokeFunction(\n",
              "            'suggestCharts', [key], {});\n",
              "      } catch (error) {\n",
              "        console.error('Error during call to suggestCharts:', error);\n",
              "      }\n",
              "      quickchartButtonEl.classList.remove('colab-df-spinner');\n",
              "      quickchartButtonEl.classList.add('colab-df-quickchart-complete');\n",
              "    }\n",
              "    (() => {\n",
              "      let quickchartButtonEl =\n",
              "        document.querySelector('#df-43219a7a-ffb5-4a08-9b54-d90f0f221120 button');\n",
              "      quickchartButtonEl.style.display =\n",
              "        google.colab.kernel.accessAllowed ? 'block' : 'none';\n",
              "    })();\n",
              "  </script>\n",
              "</div>\n",
              "\n",
              "    </div>\n",
              "  </div>\n"
            ]
          },
          "metadata": {},
          "execution_count": 228
        }
      ]
    },
    {
      "cell_type": "code",
      "source": [
        "y = inp2.iloc[:,0] #target"
      ],
      "metadata": {
        "id": "Ifb2S-ZkKEMv"
      },
      "execution_count": 229,
      "outputs": []
    },
    {
      "cell_type": "code",
      "source": [
        "X=inp2.iloc[:,1:] #features"
      ],
      "metadata": {
        "id": "lpw6mxG_KG-F"
      },
      "execution_count": 230,
      "outputs": []
    },
    {
      "cell_type": "markdown",
      "source": [
        "# 9. Train test split  and apply 70-30 split. Name the new dataframes df_train and df_test.\n"
      ],
      "metadata": {
        "id": "5lc9TG4PJ6xi"
      }
    },
    {
      "cell_type": "code",
      "source": [
        "# Step 1: Import the necessary libraries\n",
        "import numpy as np\n",
        "import pandas as pd\n",
        "from sklearn.model_selection import train_test_split\n",
        "import seaborn as sns\n",
        "\n",
        "# You can choose which columns to include in X (features) and y (target variable)\n",
        "# For this example, let's use 'Rating' as the target variable (y).\n",
        "X = df.drop(columns=['Rating'])  # Features\n",
        "y = df['Rating']  # Target variable\n",
        "\n",
        "# Perform the train-test split\n",
        "X_train, X_test, y_train, y_test = train_test_split(X, y, test_size=0.3, random_state=42)\n",
        "\n",
        "# Step 4: Create new dataframes for training and testing data\n",
        "df_train = pd.concat([X_train, y_train], axis=1)  # Combine features and target for training\n",
        "df_test = pd.concat([X_test, y_test], axis=1)  # Combine features and target for testing\n"
      ],
      "metadata": {
        "id": "00suHyIxV7Rw"
      },
      "execution_count": 231,
      "outputs": []
    },
    {
      "cell_type": "markdown",
      "source": [
        "#10. Separate the dataframes into X_train, y_train, X_test, and y_test.\n"
      ],
      "metadata": {
        "id": "sNfTPD9Qkq6o"
      }
    },
    {
      "cell_type": "code",
      "source": [
        "#Import the necessary libraries\n",
        "import pandas as pd\n",
        "import numpy as np\n",
        "from sklearn.model_selection import train_test_split\n",
        "import seaborn as sns\n",
        "\n",
        "# Load the data\n",
        "\n",
        "\n",
        "# Data preprocessing and cleaning (if needed)\n",
        "# For example, you might want to remove or fill missing values, handle categorical data, etc.\n",
        "\n",
        "# Let's assume you want to predict the 'Rating' column, so set it as the target variable (y)\n",
        "y = df['Rating']\n",
        "\n",
        "# Remove the 'Rating' column from the dataframe to create the feature matrix (X)\n",
        "X = df.drop('Rating', axis=1)\n",
        "\n",
        "# Split the data into training and testing sets (e.g., 80% train, 20% test)\n",
        "X_train, X_test, y_train, y_test = train_test_split(X, y, test_size=0.2, random_state=42)\n",
        "\n",
        "# Now you have separated dataframes:\n",
        "# - X_train: Features for training\n",
        "# - y_train: Target values for training\n",
        "# - X_test: Features for testing\n",
        "# - y_test: Target values for testing"
      ],
      "metadata": {
        "id": "OLTjTfZPksG4"
      },
      "execution_count": 232,
      "outputs": []
    },
    {
      "cell_type": "markdown",
      "source": [
        "#11.Model building\n",
        "Use linear regression as the technique\n",
        "\n",
        "Report the R2 on the train set\n"
      ],
      "metadata": {
        "id": "9O-eFfSTwFcU"
      }
    },
    {
      "cell_type": "code",
      "source": [
        "# Import the necessary libraries\n",
        "\n",
        "from sklearn.model_selection import train_test_split\n",
        "from sklearn.linear_model import LinearRegression\n",
        "from sklearn.metrics import r2_score\n",
        "import matplotlib.pyplot as plt\n",
        " #r2_score is coefficient of a statistical measure that evaluates the performance of linear regression model.\n",
        "\n",
        "# Data preprocessing (cleaning and feature selection)\n",
        "# For this example, let's use 'Reviews' as the feature and 'Rating' as the target variable.\n",
        "X = df1[['Reviews']]  # Feature\n",
        "y = df1['Rating']  # Target variable\n",
        "\n",
        "# Perform the train-test split with a 70-30 ratio\n",
        "X_train, X_test, y_train, y_test = train_test_split(X, y, test_size=0.3, random_state=42)\n",
        "\n",
        "# Create a linear regression model\n",
        "model = LinearRegression()\n",
        "\n",
        "# Fit the model on the training data\n",
        "model.fit(X_train, y_train)\n",
        "\n",
        "# Make predictions on the training set\n",
        "y_train_pred = model.predict(X_train)\n",
        "\n",
        "# Calculate the R2 score on the training set\n",
        "r2_train = r2_score(y_train, y_train_pred)\n",
        "print(\"R-squared (R2) on the training set:\", r2_train)\n",
        "print(\"\\n\")\n",
        "\n",
        "# Optional: Visualize the data and the regression line\n",
        "plt.figure(figsize=(10, 6))\n",
        "sns.scatterplot(x=X_train['Reviews'], y=y_train, label='Actual Rating')\n",
        "sns.relplot(x=X_train['Reviews'], y=y_train_pred, color='red', label='Linear Regression Line')\n",
        "plt.title('Linear Regression Model')\n",
        "plt.xlabel('Reviews')\n",
        "plt.ylabel('Rating')\n",
        "plt.legend(labelcolor='Red')\n",
        "plt.show()\n",
        "\n",
        "\n",
        "\n",
        "# In this code:\n",
        "# We load the dataset into a DataFrame named df.\n",
        "# We select 'Reviews' as the feature and 'Rating' as the target variable for the linear regression model.\n",
        "# We perform a train-test split with a 70-30 ratio.\n",
        "# We create a linear regression model, fit it on the training data, and make predictions on the training set.\n",
        "# We calculate and print the R-squared (R2) score on the training set, which measures the goodness of fit for the model.\n",
        "# You can adjust the feature and target variable according to your specific requirements. Additionally, the code includes an optional step to visualize the data and the regression line using Seaborn and Matplotlib."
      ],
      "metadata": {
        "id": "yZ4qhTrOxMsV",
        "colab": {
          "base_uri": "https://localhost:8080/",
          "height": 1000
        },
        "outputId": "4ce29139-3ee8-4576-c209-4b4e096b90a9"
      },
      "execution_count": 233,
      "outputs": [
        {
          "output_type": "stream",
          "name": "stdout",
          "text": [
            "R-squared (R2) on the training set: 0.02066882941951753\n",
            "\n",
            "\n"
          ]
        },
        {
          "output_type": "display_data",
          "data": {
            "text/plain": [
              "<Figure size 1000x600 with 1 Axes>"
            ],
            "image/png": "[encoded data removed]"
          },
          "metadata": {}
        },
        {
          "output_type": "display_data",
          "data": {
            "text/plain": [
              "<Figure size 500x500 with 1 Axes>"
            ],
            "image/png": "[encoded data removed]"
          },
          "metadata": {}
        }
      ]
    },
    {
      "cell_type": "markdown",
      "source": [
        "#12.Make predictions on the test set and report R2"
      ],
      "metadata": {
        "id": "TidIUHss3LB1"
      }
    },
    {
      "cell_type": "code",
      "source": [
        "\n",
        "from sklearn.model_selection import train_test_split\n",
        "from sklearn.linear_model import LinearRegression\n",
        "from sklearn.metrics import r2_score\n",
        "import matplotlib.pyplot as plt\n",
        "\n",
        "\n",
        "# Data preprocessing (cleaning and feature selection)\n",
        "# For this example, let's use 'Reviews' as the feature and 'Rating' as the target variable.\n",
        "X = df1[['Reviews']]  # Feature\n",
        "y = df1['Rating']  # Target variable\n",
        "\n",
        "# Perform the train-test split with a 70-30 ratio\n",
        "X_train, X_test, y_train, y_test = train_test_split(X, y, test_size=0.3, random_state=42)\n",
        "\n",
        "# Create a linear regression model\n",
        "model = LinearRegression()\n",
        "\n",
        "# Fit the model on the training data\n",
        "model.fit(X_train, y_train)\n",
        "\n",
        "# Make predictions on the training set\n",
        "y_test_pred = model.predict(X_test)\n",
        "\n",
        "# Calculate the R2 score on the training set\n",
        "r2_test = r2_score(y_test, y_test_pred)\n",
        "print(\"R-squared (R2) on the training set:\", r2_test)\n",
        "print(\"\\n\")\n",
        "\n",
        "\n",
        "plt.figure(figsize=(10, 6))\n",
        "sns.scatterplot(x=y_test, y=y_test_pred)\n",
        "\n",
        "sns.relplot(x=X_test['Reviews'], y=y_test_pred, color='#ffdd00', label='Linear Regression Line')\n",
        "\n",
        "plt.title('Linear Regression Model - Test Set Predictions vs. Actual Ratings')\n",
        "plt.xlabel('Actual Ratings')\n",
        "plt.ylabel('Predicted Ratings')\n",
        "plt.legend(labelcolor='Red')\n",
        "plt.show()\n",
        "\n",
        "# We create a linear regression model, fit it on the training data, and make predictions on the test set.\n",
        "# We calculate and print the R-squared (R2) score on the test set, which measures the goodness of fit for the model.\n",
        "# Additionally, the code includes an optional step to visualize the predictions on the test set using Seaborn and Matplotlib."
      ],
      "metadata": {
        "colab": {
          "base_uri": "https://localhost:8080/",
          "height": 1000
        },
        "id": "lBfHOCkN3HCM",
        "outputId": "ec9590cc-96bf-466c-d876-851e486ff12e"
      },
      "execution_count": 234,
      "outputs": [
        {
          "output_type": "stream",
          "name": "stdout",
          "text": [
            "R-squared (R2) on the training set: 0.01793034021219575\n",
            "\n",
            "\n"
          ]
        },
        {
          "output_type": "display_data",
          "data": {
            "text/plain": [
              "<Figure size 1000x600 with 1 Axes>"
            ],
            "image/png": "[encoded data removed]"
          },
          "metadata": {}
        },
        {
          "output_type": "display_data",
          "data": {
            "text/plain": [
              "<Figure size 500x500 with 1 Axes>"
            ],
            "image/png": "[encoded data removed]"
          },
          "metadata": {}
        }
      ]
    },
    {
      "cell_type": "code",
      "source": [],
      "metadata": {
        "id": "CGUdWYZ9-xlk"
      },
      "execution_count": 234,
      "outputs": []
    }
  ]
}